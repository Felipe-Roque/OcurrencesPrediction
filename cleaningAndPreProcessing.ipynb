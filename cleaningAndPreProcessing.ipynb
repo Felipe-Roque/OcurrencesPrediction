{
 "cells": [
  {
   "cell_type": "markdown",
   "source": [
    "# **Dicionário**\n",
    "\n",
    "id_ocorrencia - identificação única da ocorrência\n",
    "\n",
    "cidade - A cidade onde aconteceu a ocorrência\n",
    "\n",
    "população - Pupulação da cidade\n",
    "\n",
    "horario - horario da ocorrencia com data e hora\n",
    "\n",
    "vtr - viatura empenhanha na ocorrencia\n",
    "\n",
    "mtcl - matricula do militar ou cpf do Bombeiro comunitario\n",
    "\n",
    "militar_bc - identificação se o individuo é Bombeiro Comunitário ou Bombeiro\n",
    "Militar\n",
    "\n",
    "bc_indenizado - Identifica se o Bombeiro Comunitario estava no serviço sendo\n",
    "pago(indenizado) ou não\n",
    "\n",
    "obm - Organização Bombeiro Militar que estava na ocorrência\n",
    "\n",
    "coordenada_obm - Coordenada da organização Bombeiro Militar\n",
    "\n",
    "coordenada_ocorrencia - Coordenada da Ocorrência\n",
    "\n",
    "lat_ocorrencia - Latitude ocorrência\n",
    "\n",
    "lon_ocorrencia - Longitude Ocorrência\n",
    "\n",
    "tipo - Tipo da ocorrência, pode ser Atendimento pré-hospitalar - APH, incendio, acidente e outros.\n",
    "\n",
    "subtipo - especifica o tipo, num APH, pode especificar desmaio, nem sempre é preenchido.\n",
    "\n",
    "tempo_resposta - Tempo do acionamento até a chegada ao local da ocorrêcia, pode ser um dado que estaja bem falho, pois acontece do bombeiro esquecer de clicar no botão\n",
    "\n",
    "tempo_total_empenho - tempo total da saída da obm até a chegada a obm novamente.\n",
    "firecast - indica se uma viatura utilizou o sistema \"firecast\" para dar J-9, J-10, J-11 e J-12 nos deslocamentos\n",
    "\n",
    "origem_samu - Se foi um repasse da ocorrência que era do samu\n",
    "\n",
    "vitima - geração no sistema, talvez de pra gerar o número de vítimas, nome, idade, alguns sinais vitais."
   ],
   "metadata": {
    "collapsed": false
   }
  },
  {
   "cell_type": "code",
   "execution_count": 1,
   "outputs": [
    {
     "name": "stderr",
     "output_type": "stream",
     "text": [
      "/tmp/ipykernel_14793/3290686525.py:4: DtypeWarning: Columns (0) have mixed types. Specify dtype option on import or set low_memory=False.\n",
      "  df = pd.read_csv('Data/datasets/datasetTratadoFloripa.csv', sep=',', thousands=',')\n"
     ]
    },
    {
     "name": "stdout",
     "output_type": "stream",
     "text": [
      "Number of missing values in 'lat_ocorrencia': 13747\n",
      "Number of missing values in 'lon_ocorrencia': 13747\n"
     ]
    }
   ],
   "source": [
    "import pandas as pd\n",
    "\n",
    "# Load the data into a DataFrame\n",
    "df = pd.read_csv('Data/datasets/datasetTratadoFloripa.csv', sep=',', thousands=',')\n",
    "\n",
    "# Drop duplicates based on 'NrOcorrência'\n",
    "X = df.drop_duplicates(subset=\"NrOcorrência\", keep=False)\n",
    "\n",
    "# Select the columns of interest\n",
    "X = X.loc[:, ['NrOcorrência', 'Cidade', 'Data/Hora', 'lat_ocorrencia', 'lon_ocorrencia', 'TipoOcorrênciaEncerramento']]\n",
    "\n",
    "# Count the number of missing values in 'lat_ocorrencia' and 'lon_ocorrencia' columns\n",
    "missing_lat = X['lat_ocorrencia'].isna().sum()\n",
    "missing_lon = X['lon_ocorrencia'].isna().sum()\n",
    "\n",
    "print(\"Number of missing values in 'lat_ocorrencia':\", missing_lat)\n",
    "print(\"Number of missing values in 'lon_ocorrencia':\", missing_lon)"
   ],
   "metadata": {
    "collapsed": false,
    "ExecuteTime": {
     "end_time": "2023-07-26T14:40:59.240787446Z",
     "start_time": "2023-07-26T14:40:57.739138400Z"
    }
   }
  },
  {
   "cell_type": "code",
   "execution_count": 14,
   "outputs": [
    {
     "data": {
      "text/plain": "      NrOcorrência         Cidade            Data/Hora  lat_ocorrencia  \\\n0         10085306  Florianópolis  2018-01-01 01:07:47      -48.583567   \n1         10085307  Florianópolis  2018-01-01 01:51:00      -48.499719   \n2         10085308  Florianópolis  2018-01-01 01:51:00      -48.499704   \n3         10085311  Florianópolis  2018-01-01 02:34:00      -48.430948   \n4         10085313  Florianópolis  2018-01-01 04:56:00      -48.502000   \n...            ...            ...                  ...             ...   \n64165    130311681  Florianópolis  2023-07-17 00:09:15      -48.529587   \n64166    130311683  Florianópolis  2023-07-17 00:18:10             NaN   \n64167    130311696  Florianópolis  2023-07-17 01:21:24             NaN   \n64170    130311721  Florianópolis  2023-07-17 05:41:32      -48.465393   \n64171    130311723  Florianópolis  2023-07-17 06:00:21      -48.600421   \n\n       lon_ocorrencia    TipoOcorrênciaEncerramento  \n0          -27.603720    ATENDIMENTO PRÉ-HOSPITALAR  \n1          -27.438892    ATENDIMENTO PRÉ-HOSPITALAR  \n2          -27.438914       OCORRÊNCIA NÃO ATENDIDA  \n3          -27.573438    ATENDIMENTO PRÉ-HOSPITALAR  \n4          -27.446556    ATENDIMENTO PRÉ-HOSPITALAR  \n...               ...                           ...  \n64165      -27.573551                      INCÊNDIO  \n64166             NaN       OCORRÊNCIA NÃO ATENDIDA  \n64167             NaN  SALVAMENTO / BUSCA / RESGATE  \n64170      -27.431543    ATENDIMENTO PRÉ-HOSPITALAR  \n64171      -27.580668                      INCÊNDIO  \n\n[48272 rows x 6 columns]",
      "text/html": "<div>\n<style scoped>\n    .dataframe tbody tr th:only-of-type {\n        vertical-align: middle;\n    }\n\n    .dataframe tbody tr th {\n        vertical-align: top;\n    }\n\n    .dataframe thead th {\n        text-align: right;\n    }\n</style>\n<table border=\"1\" class=\"dataframe\">\n  <thead>\n    <tr style=\"text-align: right;\">\n      <th></th>\n      <th>NrOcorrência</th>\n      <th>Cidade</th>\n      <th>Data/Hora</th>\n      <th>lat_ocorrencia</th>\n      <th>lon_ocorrencia</th>\n      <th>TipoOcorrênciaEncerramento</th>\n    </tr>\n  </thead>\n  <tbody>\n    <tr>\n      <th>0</th>\n      <td>10085306</td>\n      <td>Florianópolis</td>\n      <td>2018-01-01 01:07:47</td>\n      <td>-48.583567</td>\n      <td>-27.603720</td>\n      <td>ATENDIMENTO PRÉ-HOSPITALAR</td>\n    </tr>\n    <tr>\n      <th>1</th>\n      <td>10085307</td>\n      <td>Florianópolis</td>\n      <td>2018-01-01 01:51:00</td>\n      <td>-48.499719</td>\n      <td>-27.438892</td>\n      <td>ATENDIMENTO PRÉ-HOSPITALAR</td>\n    </tr>\n    <tr>\n      <th>2</th>\n      <td>10085308</td>\n      <td>Florianópolis</td>\n      <td>2018-01-01 01:51:00</td>\n      <td>-48.499704</td>\n      <td>-27.438914</td>\n      <td>OCORRÊNCIA NÃO ATENDIDA</td>\n    </tr>\n    <tr>\n      <th>3</th>\n      <td>10085311</td>\n      <td>Florianópolis</td>\n      <td>2018-01-01 02:34:00</td>\n      <td>-48.430948</td>\n      <td>-27.573438</td>\n      <td>ATENDIMENTO PRÉ-HOSPITALAR</td>\n    </tr>\n    <tr>\n      <th>4</th>\n      <td>10085313</td>\n      <td>Florianópolis</td>\n      <td>2018-01-01 04:56:00</td>\n      <td>-48.502000</td>\n      <td>-27.446556</td>\n      <td>ATENDIMENTO PRÉ-HOSPITALAR</td>\n    </tr>\n    <tr>\n      <th>...</th>\n      <td>...</td>\n      <td>...</td>\n      <td>...</td>\n      <td>...</td>\n      <td>...</td>\n      <td>...</td>\n    </tr>\n    <tr>\n      <th>64165</th>\n      <td>130311681</td>\n      <td>Florianópolis</td>\n      <td>2023-07-17 00:09:15</td>\n      <td>-48.529587</td>\n      <td>-27.573551</td>\n      <td>INCÊNDIO</td>\n    </tr>\n    <tr>\n      <th>64166</th>\n      <td>130311683</td>\n      <td>Florianópolis</td>\n      <td>2023-07-17 00:18:10</td>\n      <td>NaN</td>\n      <td>NaN</td>\n      <td>OCORRÊNCIA NÃO ATENDIDA</td>\n    </tr>\n    <tr>\n      <th>64167</th>\n      <td>130311696</td>\n      <td>Florianópolis</td>\n      <td>2023-07-17 01:21:24</td>\n      <td>NaN</td>\n      <td>NaN</td>\n      <td>SALVAMENTO / BUSCA / RESGATE</td>\n    </tr>\n    <tr>\n      <th>64170</th>\n      <td>130311721</td>\n      <td>Florianópolis</td>\n      <td>2023-07-17 05:41:32</td>\n      <td>-48.465393</td>\n      <td>-27.431543</td>\n      <td>ATENDIMENTO PRÉ-HOSPITALAR</td>\n    </tr>\n    <tr>\n      <th>64171</th>\n      <td>130311723</td>\n      <td>Florianópolis</td>\n      <td>2023-07-17 06:00:21</td>\n      <td>-48.600421</td>\n      <td>-27.580668</td>\n      <td>INCÊNDIO</td>\n    </tr>\n  </tbody>\n</table>\n<p>48272 rows × 6 columns</p>\n</div>"
     },
     "execution_count": 14,
     "metadata": {},
     "output_type": "execute_result"
    }
   ],
   "source": [
    "X"
   ],
   "metadata": {
    "collapsed": false,
    "ExecuteTime": {
     "end_time": "2023-07-26T13:16:56.407702836Z",
     "start_time": "2023-07-26T13:16:56.404519161Z"
    }
   }
  },
  {
   "cell_type": "code",
   "execution_count": 2,
   "outputs": [
    {
     "data": {
      "text/plain": "      NrOcorrência         Cidade            Data/Hora  lat_ocorrencia  \\\n0         10085306  Florianópolis  2018-01-01 01:07:47      -48.583567   \n1         10085307  Florianópolis  2018-01-01 01:51:00      -48.499719   \n3         10085311  Florianópolis  2018-01-01 02:34:00      -48.430948   \n4         10085313  Florianópolis  2018-01-01 04:56:00      -48.502000   \n5         10085314  Florianópolis  2018-01-01 05:25:00      -48.446964   \n...            ...            ...                  ...             ...   \n64153    130311530  Florianópolis  2023-07-16 18:19:03      -48.488195   \n64154    130311541  Florianópolis  2023-07-16 18:41:05      -48.428004   \n64158    130311596  Florianópolis  2023-07-16 20:27:33      -48.534101   \n64159    130311651  Florianópolis  2023-07-16 22:29:10      -48.521634   \n64170    130311721  Florianópolis  2023-07-17 05:41:32      -48.465393   \n\n       lon_ocorrencia  TipoOcorrênciaEncerramento  \n0          -27.603720  ATENDIMENTO PRÉ-HOSPITALAR  \n1          -27.438892  ATENDIMENTO PRÉ-HOSPITALAR  \n3          -27.573438  ATENDIMENTO PRÉ-HOSPITALAR  \n4          -27.446556  ATENDIMENTO PRÉ-HOSPITALAR  \n5          -27.609410  ATENDIMENTO PRÉ-HOSPITALAR  \n...               ...                         ...  \n64153      -27.661013  ATENDIMENTO PRÉ-HOSPITALAR  \n64154      -27.399650  ATENDIMENTO PRÉ-HOSPITALAR  \n64158      -27.661502  ATENDIMENTO PRÉ-HOSPITALAR  \n64159      -27.636769  ATENDIMENTO PRÉ-HOSPITALAR  \n64170      -27.431543  ATENDIMENTO PRÉ-HOSPITALAR  \n\n[25117 rows x 6 columns]",
      "text/html": "<div>\n<style scoped>\n    .dataframe tbody tr th:only-of-type {\n        vertical-align: middle;\n    }\n\n    .dataframe tbody tr th {\n        vertical-align: top;\n    }\n\n    .dataframe thead th {\n        text-align: right;\n    }\n</style>\n<table border=\"1\" class=\"dataframe\">\n  <thead>\n    <tr style=\"text-align: right;\">\n      <th></th>\n      <th>NrOcorrência</th>\n      <th>Cidade</th>\n      <th>Data/Hora</th>\n      <th>lat_ocorrencia</th>\n      <th>lon_ocorrencia</th>\n      <th>TipoOcorrênciaEncerramento</th>\n    </tr>\n  </thead>\n  <tbody>\n    <tr>\n      <th>0</th>\n      <td>10085306</td>\n      <td>Florianópolis</td>\n      <td>2018-01-01 01:07:47</td>\n      <td>-48.583567</td>\n      <td>-27.603720</td>\n      <td>ATENDIMENTO PRÉ-HOSPITALAR</td>\n    </tr>\n    <tr>\n      <th>1</th>\n      <td>10085307</td>\n      <td>Florianópolis</td>\n      <td>2018-01-01 01:51:00</td>\n      <td>-48.499719</td>\n      <td>-27.438892</td>\n      <td>ATENDIMENTO PRÉ-HOSPITALAR</td>\n    </tr>\n    <tr>\n      <th>3</th>\n      <td>10085311</td>\n      <td>Florianópolis</td>\n      <td>2018-01-01 02:34:00</td>\n      <td>-48.430948</td>\n      <td>-27.573438</td>\n      <td>ATENDIMENTO PRÉ-HOSPITALAR</td>\n    </tr>\n    <tr>\n      <th>4</th>\n      <td>10085313</td>\n      <td>Florianópolis</td>\n      <td>2018-01-01 04:56:00</td>\n      <td>-48.502000</td>\n      <td>-27.446556</td>\n      <td>ATENDIMENTO PRÉ-HOSPITALAR</td>\n    </tr>\n    <tr>\n      <th>5</th>\n      <td>10085314</td>\n      <td>Florianópolis</td>\n      <td>2018-01-01 05:25:00</td>\n      <td>-48.446964</td>\n      <td>-27.609410</td>\n      <td>ATENDIMENTO PRÉ-HOSPITALAR</td>\n    </tr>\n    <tr>\n      <th>...</th>\n      <td>...</td>\n      <td>...</td>\n      <td>...</td>\n      <td>...</td>\n      <td>...</td>\n      <td>...</td>\n    </tr>\n    <tr>\n      <th>64153</th>\n      <td>130311530</td>\n      <td>Florianópolis</td>\n      <td>2023-07-16 18:19:03</td>\n      <td>-48.488195</td>\n      <td>-27.661013</td>\n      <td>ATENDIMENTO PRÉ-HOSPITALAR</td>\n    </tr>\n    <tr>\n      <th>64154</th>\n      <td>130311541</td>\n      <td>Florianópolis</td>\n      <td>2023-07-16 18:41:05</td>\n      <td>-48.428004</td>\n      <td>-27.399650</td>\n      <td>ATENDIMENTO PRÉ-HOSPITALAR</td>\n    </tr>\n    <tr>\n      <th>64158</th>\n      <td>130311596</td>\n      <td>Florianópolis</td>\n      <td>2023-07-16 20:27:33</td>\n      <td>-48.534101</td>\n      <td>-27.661502</td>\n      <td>ATENDIMENTO PRÉ-HOSPITALAR</td>\n    </tr>\n    <tr>\n      <th>64159</th>\n      <td>130311651</td>\n      <td>Florianópolis</td>\n      <td>2023-07-16 22:29:10</td>\n      <td>-48.521634</td>\n      <td>-27.636769</td>\n      <td>ATENDIMENTO PRÉ-HOSPITALAR</td>\n    </tr>\n    <tr>\n      <th>64170</th>\n      <td>130311721</td>\n      <td>Florianópolis</td>\n      <td>2023-07-17 05:41:32</td>\n      <td>-48.465393</td>\n      <td>-27.431543</td>\n      <td>ATENDIMENTO PRÉ-HOSPITALAR</td>\n    </tr>\n  </tbody>\n</table>\n<p>25117 rows × 6 columns</p>\n</div>"
     },
     "execution_count": 2,
     "metadata": {},
     "output_type": "execute_result"
    }
   ],
   "source": [
    "X = X.loc[X['TipoOcorrênciaEncerramento'] == 'ATENDIMENTO PRÉ-HOSPITALAR']\n",
    "X"
   ],
   "metadata": {
    "collapsed": false,
    "ExecuteTime": {
     "end_time": "2023-07-26T14:48:12.314958833Z",
     "start_time": "2023-07-26T14:48:12.247749191Z"
    }
   }
  },
  {
   "cell_type": "code",
   "execution_count": 6,
   "outputs": [
    {
     "data": {
      "text/plain": "      NrOcorrência         Cidade            Data/Hora  lat_ocorrencia  \\\n0         10085306  Florianópolis  2018-01-01 01:07:47      -48.583567   \n1         10085307  Florianópolis  2018-01-01 01:51:00      -48.499719   \n3         10085311  Florianópolis  2018-01-01 02:34:00      -48.430948   \n4         10085313  Florianópolis  2018-01-01 04:56:00      -48.502000   \n5         10085314  Florianópolis  2018-01-01 05:25:00      -48.446964   \n...            ...            ...                  ...             ...   \n64153    130311530  Florianópolis  2023-07-16 18:19:03      -48.488195   \n64154    130311541  Florianópolis  2023-07-16 18:41:05      -48.428004   \n64158    130311596  Florianópolis  2023-07-16 20:27:33      -48.534101   \n64159    130311651  Florianópolis  2023-07-16 22:29:10      -48.521634   \n64170    130311721  Florianópolis  2023-07-17 05:41:32      -48.465393   \n\n       lon_ocorrencia  TipoOcorrênciaEncerramento       Date  \n0          -27.603720  ATENDIMENTO PRÉ-HOSPITALAR 2018-01-01  \n1          -27.438892  ATENDIMENTO PRÉ-HOSPITALAR 2018-01-01  \n3          -27.573438  ATENDIMENTO PRÉ-HOSPITALAR 2018-01-01  \n4          -27.446556  ATENDIMENTO PRÉ-HOSPITALAR 2018-01-01  \n5          -27.609410  ATENDIMENTO PRÉ-HOSPITALAR 2018-01-01  \n...               ...                         ...        ...  \n64153      -27.661013  ATENDIMENTO PRÉ-HOSPITALAR 2023-07-16  \n64154      -27.399650  ATENDIMENTO PRÉ-HOSPITALAR 2023-07-16  \n64158      -27.661502  ATENDIMENTO PRÉ-HOSPITALAR 2023-07-16  \n64159      -27.636769  ATENDIMENTO PRÉ-HOSPITALAR 2023-07-16  \n64170      -27.431543  ATENDIMENTO PRÉ-HOSPITALAR 2023-07-17  \n\n[25117 rows x 7 columns]",
      "text/html": "<div>\n<style scoped>\n    .dataframe tbody tr th:only-of-type {\n        vertical-align: middle;\n    }\n\n    .dataframe tbody tr th {\n        vertical-align: top;\n    }\n\n    .dataframe thead th {\n        text-align: right;\n    }\n</style>\n<table border=\"1\" class=\"dataframe\">\n  <thead>\n    <tr style=\"text-align: right;\">\n      <th></th>\n      <th>NrOcorrência</th>\n      <th>Cidade</th>\n      <th>Data/Hora</th>\n      <th>lat_ocorrencia</th>\n      <th>lon_ocorrencia</th>\n      <th>TipoOcorrênciaEncerramento</th>\n      <th>Date</th>\n    </tr>\n  </thead>\n  <tbody>\n    <tr>\n      <th>0</th>\n      <td>10085306</td>\n      <td>Florianópolis</td>\n      <td>2018-01-01 01:07:47</td>\n      <td>-48.583567</td>\n      <td>-27.603720</td>\n      <td>ATENDIMENTO PRÉ-HOSPITALAR</td>\n      <td>2018-01-01</td>\n    </tr>\n    <tr>\n      <th>1</th>\n      <td>10085307</td>\n      <td>Florianópolis</td>\n      <td>2018-01-01 01:51:00</td>\n      <td>-48.499719</td>\n      <td>-27.438892</td>\n      <td>ATENDIMENTO PRÉ-HOSPITALAR</td>\n      <td>2018-01-01</td>\n    </tr>\n    <tr>\n      <th>3</th>\n      <td>10085311</td>\n      <td>Florianópolis</td>\n      <td>2018-01-01 02:34:00</td>\n      <td>-48.430948</td>\n      <td>-27.573438</td>\n      <td>ATENDIMENTO PRÉ-HOSPITALAR</td>\n      <td>2018-01-01</td>\n    </tr>\n    <tr>\n      <th>4</th>\n      <td>10085313</td>\n      <td>Florianópolis</td>\n      <td>2018-01-01 04:56:00</td>\n      <td>-48.502000</td>\n      <td>-27.446556</td>\n      <td>ATENDIMENTO PRÉ-HOSPITALAR</td>\n      <td>2018-01-01</td>\n    </tr>\n    <tr>\n      <th>5</th>\n      <td>10085314</td>\n      <td>Florianópolis</td>\n      <td>2018-01-01 05:25:00</td>\n      <td>-48.446964</td>\n      <td>-27.609410</td>\n      <td>ATENDIMENTO PRÉ-HOSPITALAR</td>\n      <td>2018-01-01</td>\n    </tr>\n    <tr>\n      <th>...</th>\n      <td>...</td>\n      <td>...</td>\n      <td>...</td>\n      <td>...</td>\n      <td>...</td>\n      <td>...</td>\n      <td>...</td>\n    </tr>\n    <tr>\n      <th>64153</th>\n      <td>130311530</td>\n      <td>Florianópolis</td>\n      <td>2023-07-16 18:19:03</td>\n      <td>-48.488195</td>\n      <td>-27.661013</td>\n      <td>ATENDIMENTO PRÉ-HOSPITALAR</td>\n      <td>2023-07-16</td>\n    </tr>\n    <tr>\n      <th>64154</th>\n      <td>130311541</td>\n      <td>Florianópolis</td>\n      <td>2023-07-16 18:41:05</td>\n      <td>-48.428004</td>\n      <td>-27.399650</td>\n      <td>ATENDIMENTO PRÉ-HOSPITALAR</td>\n      <td>2023-07-16</td>\n    </tr>\n    <tr>\n      <th>64158</th>\n      <td>130311596</td>\n      <td>Florianópolis</td>\n      <td>2023-07-16 20:27:33</td>\n      <td>-48.534101</td>\n      <td>-27.661502</td>\n      <td>ATENDIMENTO PRÉ-HOSPITALAR</td>\n      <td>2023-07-16</td>\n    </tr>\n    <tr>\n      <th>64159</th>\n      <td>130311651</td>\n      <td>Florianópolis</td>\n      <td>2023-07-16 22:29:10</td>\n      <td>-48.521634</td>\n      <td>-27.636769</td>\n      <td>ATENDIMENTO PRÉ-HOSPITALAR</td>\n      <td>2023-07-16</td>\n    </tr>\n    <tr>\n      <th>64170</th>\n      <td>130311721</td>\n      <td>Florianópolis</td>\n      <td>2023-07-17 05:41:32</td>\n      <td>-48.465393</td>\n      <td>-27.431543</td>\n      <td>ATENDIMENTO PRÉ-HOSPITALAR</td>\n      <td>2023-07-17</td>\n    </tr>\n  </tbody>\n</table>\n<p>25117 rows × 7 columns</p>\n</div>"
     },
     "execution_count": 6,
     "metadata": {},
     "output_type": "execute_result"
    }
   ],
   "source": [
    "X[\"Date\"] = pd.to_datetime(X[\"Data/Hora\"], infer_datetime_format=True).dt.floor('1D')\n",
    "X"
   ],
   "metadata": {
    "collapsed": false,
    "ExecuteTime": {
     "end_time": "2023-07-26T14:49:55.162377034Z",
     "start_time": "2023-07-26T14:49:55.147043809Z"
    }
   }
  },
  {
   "cell_type": "code",
   "execution_count": 3,
   "outputs": [
    {
     "name": "stdout",
     "output_type": "stream",
     "text": [
      "Dataset saved to: Data/datasets/dataset_2023-07-26.csv\n"
     ]
    }
   ],
   "source": [
    "\n",
    "from sklearn.impute import KNNImputer\n",
    "import pandas as pd\n",
    "import os\n",
    "from datetime import date\n",
    "\n",
    "X = X.loc[X['Cidade'] == 'Florianópolis']\n",
    "#X = X.loc[X[\"lon_ocorrencia\"] >= -48.6, :]\n",
    "\n",
    "# Create a copy of the DataFrame with only the columns of interest\n",
    "impute_df = X[['lat_ocorrencia', 'lon_ocorrencia']].copy()\n",
    "\n",
    "# Initialize the KNNImputer\n",
    "imputer = KNNImputer(n_neighbors=5)  # Choose the appropriate number of neighbors\n",
    "\n",
    "# Perform KNN imputation\n",
    "imputed_values = imputer.fit_transform(impute_df)\n",
    "\n",
    "# Replace the columns with the imputed values\n",
    "X['lat_ocorrencia'] = imputed_values[:, 0]\n",
    "X['lon_ocorrencia'] = imputed_values[:, 1]\n",
    "\n",
    "\n",
    "# Filter data for a specific date if needed\n",
    "# X = X.loc[X['Date'] >= '2019-07-01']\n",
    "\n",
    "# Save DataFrame to CSV with the current date in the filename\n",
    "output_directory = \"Data/datasets\"\n",
    "os.makedirs(output_directory, exist_ok=True)\n",
    "current_date = date.today().strftime(\"%Y-%m-%d\")\n",
    "output_filename = f\"dataset_{current_date}.csv\"\n",
    "output_path = os.path.join(output_directory, output_filename)\n",
    "X.to_csv(output_path, index=False)\n",
    "\n",
    "print(f\"Dataset saved to: {output_path}\")"
   ],
   "metadata": {
    "collapsed": false,
    "ExecuteTime": {
     "end_time": "2023-07-26T14:48:44.267768498Z",
     "start_time": "2023-07-26T14:48:36.623113984Z"
    }
   }
  },
  {
   "cell_type": "code",
   "execution_count": 5,
   "outputs": [
    {
     "data": {
      "text/plain": "      NrOcorrência         Cidade            Data/Hora  lat_ocorrencia  \\\n0         10085306  Florianópolis  2018-01-01 01:07:47      -48.583567   \n1         10085307  Florianópolis  2018-01-01 01:51:00      -48.499719   \n3         10085311  Florianópolis  2018-01-01 02:34:00      -48.430948   \n4         10085313  Florianópolis  2018-01-01 04:56:00      -48.502000   \n5         10085314  Florianópolis  2018-01-01 05:25:00      -48.446964   \n...            ...            ...                  ...             ...   \n64153    130311530  Florianópolis  2023-07-16 18:19:03      -48.488195   \n64154    130311541  Florianópolis  2023-07-16 18:41:05      -48.428004   \n64158    130311596  Florianópolis  2023-07-16 20:27:33      -48.534101   \n64159    130311651  Florianópolis  2023-07-16 22:29:10      -48.521634   \n64170    130311721  Florianópolis  2023-07-17 05:41:32      -48.465393   \n\n       lon_ocorrencia  TipoOcorrênciaEncerramento  \n0          -27.603720  ATENDIMENTO PRÉ-HOSPITALAR  \n1          -27.438892  ATENDIMENTO PRÉ-HOSPITALAR  \n3          -27.573438  ATENDIMENTO PRÉ-HOSPITALAR  \n4          -27.446556  ATENDIMENTO PRÉ-HOSPITALAR  \n5          -27.609410  ATENDIMENTO PRÉ-HOSPITALAR  \n...               ...                         ...  \n64153      -27.661013  ATENDIMENTO PRÉ-HOSPITALAR  \n64154      -27.399650  ATENDIMENTO PRÉ-HOSPITALAR  \n64158      -27.661502  ATENDIMENTO PRÉ-HOSPITALAR  \n64159      -27.636769  ATENDIMENTO PRÉ-HOSPITALAR  \n64170      -27.431543  ATENDIMENTO PRÉ-HOSPITALAR  \n\n[25117 rows x 6 columns]",
      "text/html": "<div>\n<style scoped>\n    .dataframe tbody tr th:only-of-type {\n        vertical-align: middle;\n    }\n\n    .dataframe tbody tr th {\n        vertical-align: top;\n    }\n\n    .dataframe thead th {\n        text-align: right;\n    }\n</style>\n<table border=\"1\" class=\"dataframe\">\n  <thead>\n    <tr style=\"text-align: right;\">\n      <th></th>\n      <th>NrOcorrência</th>\n      <th>Cidade</th>\n      <th>Data/Hora</th>\n      <th>lat_ocorrencia</th>\n      <th>lon_ocorrencia</th>\n      <th>TipoOcorrênciaEncerramento</th>\n    </tr>\n  </thead>\n  <tbody>\n    <tr>\n      <th>0</th>\n      <td>10085306</td>\n      <td>Florianópolis</td>\n      <td>2018-01-01 01:07:47</td>\n      <td>-48.583567</td>\n      <td>-27.603720</td>\n      <td>ATENDIMENTO PRÉ-HOSPITALAR</td>\n    </tr>\n    <tr>\n      <th>1</th>\n      <td>10085307</td>\n      <td>Florianópolis</td>\n      <td>2018-01-01 01:51:00</td>\n      <td>-48.499719</td>\n      <td>-27.438892</td>\n      <td>ATENDIMENTO PRÉ-HOSPITALAR</td>\n    </tr>\n    <tr>\n      <th>3</th>\n      <td>10085311</td>\n      <td>Florianópolis</td>\n      <td>2018-01-01 02:34:00</td>\n      <td>-48.430948</td>\n      <td>-27.573438</td>\n      <td>ATENDIMENTO PRÉ-HOSPITALAR</td>\n    </tr>\n    <tr>\n      <th>4</th>\n      <td>10085313</td>\n      <td>Florianópolis</td>\n      <td>2018-01-01 04:56:00</td>\n      <td>-48.502000</td>\n      <td>-27.446556</td>\n      <td>ATENDIMENTO PRÉ-HOSPITALAR</td>\n    </tr>\n    <tr>\n      <th>5</th>\n      <td>10085314</td>\n      <td>Florianópolis</td>\n      <td>2018-01-01 05:25:00</td>\n      <td>-48.446964</td>\n      <td>-27.609410</td>\n      <td>ATENDIMENTO PRÉ-HOSPITALAR</td>\n    </tr>\n    <tr>\n      <th>...</th>\n      <td>...</td>\n      <td>...</td>\n      <td>...</td>\n      <td>...</td>\n      <td>...</td>\n      <td>...</td>\n    </tr>\n    <tr>\n      <th>64153</th>\n      <td>130311530</td>\n      <td>Florianópolis</td>\n      <td>2023-07-16 18:19:03</td>\n      <td>-48.488195</td>\n      <td>-27.661013</td>\n      <td>ATENDIMENTO PRÉ-HOSPITALAR</td>\n    </tr>\n    <tr>\n      <th>64154</th>\n      <td>130311541</td>\n      <td>Florianópolis</td>\n      <td>2023-07-16 18:41:05</td>\n      <td>-48.428004</td>\n      <td>-27.399650</td>\n      <td>ATENDIMENTO PRÉ-HOSPITALAR</td>\n    </tr>\n    <tr>\n      <th>64158</th>\n      <td>130311596</td>\n      <td>Florianópolis</td>\n      <td>2023-07-16 20:27:33</td>\n      <td>-48.534101</td>\n      <td>-27.661502</td>\n      <td>ATENDIMENTO PRÉ-HOSPITALAR</td>\n    </tr>\n    <tr>\n      <th>64159</th>\n      <td>130311651</td>\n      <td>Florianópolis</td>\n      <td>2023-07-16 22:29:10</td>\n      <td>-48.521634</td>\n      <td>-27.636769</td>\n      <td>ATENDIMENTO PRÉ-HOSPITALAR</td>\n    </tr>\n    <tr>\n      <th>64170</th>\n      <td>130311721</td>\n      <td>Florianópolis</td>\n      <td>2023-07-17 05:41:32</td>\n      <td>-48.465393</td>\n      <td>-27.431543</td>\n      <td>ATENDIMENTO PRÉ-HOSPITALAR</td>\n    </tr>\n  </tbody>\n</table>\n<p>25117 rows × 6 columns</p>\n</div>"
     },
     "execution_count": 5,
     "metadata": {},
     "output_type": "execute_result"
    }
   ],
   "source": [
    "X"
   ],
   "metadata": {
    "collapsed": false,
    "ExecuteTime": {
     "end_time": "2023-07-26T14:49:43.059162604Z",
     "start_time": "2023-07-26T14:49:43.052700624Z"
    }
   }
  },
  {
   "cell_type": "code",
   "execution_count": 7,
   "outputs": [
    {
     "data": {
      "text/plain": "Date  TipoOcorrênciaEncerramento\n2018  ATENDIMENTO PRÉ-HOSPITALAR    4566\n2019  ATENDIMENTO PRÉ-HOSPITALAR    5041\n2020  ATENDIMENTO PRÉ-HOSPITALAR    3746\n2021  ATENDIMENTO PRÉ-HOSPITALAR    4287\n2022  ATENDIMENTO PRÉ-HOSPITALAR    4670\n2023  ATENDIMENTO PRÉ-HOSPITALAR    2807\nName: Date, dtype: int64"
     },
     "execution_count": 7,
     "metadata": {},
     "output_type": "execute_result"
    }
   ],
   "source": [
    "X['Date'].groupby([X.Date.dt.year, X.TipoOcorrênciaEncerramento]).agg('count')\n"
   ],
   "metadata": {
    "collapsed": false,
    "ExecuteTime": {
     "end_time": "2023-07-26T14:49:59.041966697Z",
     "start_time": "2023-07-26T14:49:58.997406005Z"
    }
   }
  },
  {
   "cell_type": "code",
   "execution_count": null,
   "outputs": [],
   "source": [
    "\n",
    "X['lat_ocorrencia'] = pd.to_numeric(X['lat_ocorrencia'], errors='coerce')\n",
    "X['lon_ocorrencia'] = pd.to_numeric(X['lon_ocorrencia'], errors='coerce')\n",
    "\n",
    "# Create a copy of the DataFrame with only the columns of interest\n",
    "impute_df = X[['lat_ocorrencia', 'lon_ocorrencia']].copy()\n",
    "\n",
    "# Initialize the KNNImputer\n",
    "imputer = KNNImputer(n_neighbors=5)  # Choose the appropriate number of neighbors\n",
    "\n",
    "# Perform KNN imputation\n",
    "imputed_values = imputer.fit_transform(impute_df)\n",
    "\n",
    "# Replace the columns with the imputed values\n",
    "X['lat_ocorrencia'] = imputed_values[:, 0]\n",
    "X['lon_ocorrencia'] = imputed_values[:, 1]\n",
    "\n",
    "X"
   ],
   "metadata": {
    "collapsed": false,
    "is_executing": true,
    "ExecuteTime": {
     "start_time": "2023-07-18T13:54:55.096877815Z"
    }
   }
  },
  {
   "cell_type": "code",
   "execution_count": 8,
   "outputs": [
    {
     "ename": "AttributeError",
     "evalue": "Can only use .str accessor with string values!",
     "output_type": "error",
     "traceback": [
      "\u001B[0;31m---------------------------------------------------------------------------\u001B[0m",
      "\u001B[0;31mAttributeError\u001B[0m                            Traceback (most recent call last)",
      "Cell \u001B[0;32mIn[8], line 1\u001B[0m\n\u001B[0;32m----> 1\u001B[0m X[\u001B[38;5;124m'\u001B[39m\u001B[38;5;124mlon_ocorrencia\u001B[39m\u001B[38;5;124m'\u001B[39m] \u001B[38;5;241m=\u001B[39m \u001B[43mX\u001B[49m\u001B[43m[\u001B[49m\u001B[38;5;124;43m'\u001B[39;49m\u001B[38;5;124;43mlon_ocorrencia\u001B[39;49m\u001B[38;5;124;43m'\u001B[39;49m\u001B[43m]\u001B[49m\u001B[38;5;241;43m.\u001B[39;49m\u001B[43mstr\u001B[49m\u001B[38;5;241m.\u001B[39msplit(\u001B[38;5;124m'\u001B[39m\u001B[38;5;124m-\u001B[39m\u001B[38;5;124m'\u001B[39m)\u001B[38;5;241m.\u001B[39mapply(\u001B[38;5;28;01mlambda\u001B[39;00m x: pd\u001B[38;5;241m.\u001B[39mSeries(x))\u001B[38;5;241m.\u001B[39mastype(\u001B[38;5;28mfloat\u001B[39m)\u001B[38;5;241m.\u001B[39mmean(axis\u001B[38;5;241m=\u001B[39m\u001B[38;5;241m1\u001B[39m)\n\u001B[1;32m      2\u001B[0m X[\u001B[38;5;124m'\u001B[39m\u001B[38;5;124mlat_ocorrencia\u001B[39m\u001B[38;5;124m'\u001B[39m] \u001B[38;5;241m=\u001B[39m X[\u001B[38;5;124m'\u001B[39m\u001B[38;5;124mlat_ocorrencia\u001B[39m\u001B[38;5;124m'\u001B[39m]\u001B[38;5;241m.\u001B[39mstr\u001B[38;5;241m.\u001B[39msplit(\u001B[38;5;124m'\u001B[39m\u001B[38;5;124m-\u001B[39m\u001B[38;5;124m'\u001B[39m)\u001B[38;5;241m.\u001B[39mapply(\u001B[38;5;28;01mlambda\u001B[39;00m x: pd\u001B[38;5;241m.\u001B[39mSeries(x))\u001B[38;5;241m.\u001B[39mastype(\u001B[38;5;28mfloat\u001B[39m)\u001B[38;5;241m.\u001B[39mmean(axis\u001B[38;5;241m=\u001B[39m\u001B[38;5;241m1\u001B[39m)\n",
      "File \u001B[0;32m~/PycharmProjects/pythonProject/venv/lib/python3.10/site-packages/pandas/core/generic.py:5902\u001B[0m, in \u001B[0;36mNDFrame.__getattr__\u001B[0;34m(self, name)\u001B[0m\n\u001B[1;32m   5895\u001B[0m \u001B[38;5;28;01mif\u001B[39;00m (\n\u001B[1;32m   5896\u001B[0m     name \u001B[38;5;129;01mnot\u001B[39;00m \u001B[38;5;129;01min\u001B[39;00m \u001B[38;5;28mself\u001B[39m\u001B[38;5;241m.\u001B[39m_internal_names_set\n\u001B[1;32m   5897\u001B[0m     \u001B[38;5;129;01mand\u001B[39;00m name \u001B[38;5;129;01mnot\u001B[39;00m \u001B[38;5;129;01min\u001B[39;00m \u001B[38;5;28mself\u001B[39m\u001B[38;5;241m.\u001B[39m_metadata\n\u001B[1;32m   5898\u001B[0m     \u001B[38;5;129;01mand\u001B[39;00m name \u001B[38;5;129;01mnot\u001B[39;00m \u001B[38;5;129;01min\u001B[39;00m \u001B[38;5;28mself\u001B[39m\u001B[38;5;241m.\u001B[39m_accessors\n\u001B[1;32m   5899\u001B[0m     \u001B[38;5;129;01mand\u001B[39;00m \u001B[38;5;28mself\u001B[39m\u001B[38;5;241m.\u001B[39m_info_axis\u001B[38;5;241m.\u001B[39m_can_hold_identifiers_and_holds_name(name)\n\u001B[1;32m   5900\u001B[0m ):\n\u001B[1;32m   5901\u001B[0m     \u001B[38;5;28;01mreturn\u001B[39;00m \u001B[38;5;28mself\u001B[39m[name]\n\u001B[0;32m-> 5902\u001B[0m \u001B[38;5;28;01mreturn\u001B[39;00m \u001B[38;5;28;43mobject\u001B[39;49m\u001B[38;5;241;43m.\u001B[39;49m\u001B[38;5;21;43m__getattribute__\u001B[39;49m\u001B[43m(\u001B[49m\u001B[38;5;28;43mself\u001B[39;49m\u001B[43m,\u001B[49m\u001B[43m \u001B[49m\u001B[43mname\u001B[49m\u001B[43m)\u001B[49m\n",
      "File \u001B[0;32m~/PycharmProjects/pythonProject/venv/lib/python3.10/site-packages/pandas/core/accessor.py:182\u001B[0m, in \u001B[0;36mCachedAccessor.__get__\u001B[0;34m(self, obj, cls)\u001B[0m\n\u001B[1;32m    179\u001B[0m \u001B[38;5;28;01mif\u001B[39;00m obj \u001B[38;5;129;01mis\u001B[39;00m \u001B[38;5;28;01mNone\u001B[39;00m:\n\u001B[1;32m    180\u001B[0m     \u001B[38;5;66;03m# we're accessing the attribute of the class, i.e., Dataset.geo\u001B[39;00m\n\u001B[1;32m    181\u001B[0m     \u001B[38;5;28;01mreturn\u001B[39;00m \u001B[38;5;28mself\u001B[39m\u001B[38;5;241m.\u001B[39m_accessor\n\u001B[0;32m--> 182\u001B[0m accessor_obj \u001B[38;5;241m=\u001B[39m \u001B[38;5;28;43mself\u001B[39;49m\u001B[38;5;241;43m.\u001B[39;49m\u001B[43m_accessor\u001B[49m\u001B[43m(\u001B[49m\u001B[43mobj\u001B[49m\u001B[43m)\u001B[49m\n\u001B[1;32m    183\u001B[0m \u001B[38;5;66;03m# Replace the property with the accessor object. Inspired by:\u001B[39;00m\n\u001B[1;32m    184\u001B[0m \u001B[38;5;66;03m# https://www.pydanny.com/cached-property.html\u001B[39;00m\n\u001B[1;32m    185\u001B[0m \u001B[38;5;66;03m# We need to use object.__setattr__ because we overwrite __setattr__ on\u001B[39;00m\n\u001B[1;32m    186\u001B[0m \u001B[38;5;66;03m# NDFrame\u001B[39;00m\n\u001B[1;32m    187\u001B[0m \u001B[38;5;28mobject\u001B[39m\u001B[38;5;241m.\u001B[39m\u001B[38;5;21m__setattr__\u001B[39m(obj, \u001B[38;5;28mself\u001B[39m\u001B[38;5;241m.\u001B[39m_name, accessor_obj)\n",
      "File \u001B[0;32m~/PycharmProjects/pythonProject/venv/lib/python3.10/site-packages/pandas/core/strings/accessor.py:181\u001B[0m, in \u001B[0;36mStringMethods.__init__\u001B[0;34m(self, data)\u001B[0m\n\u001B[1;32m    178\u001B[0m \u001B[38;5;28;01mdef\u001B[39;00m \u001B[38;5;21m__init__\u001B[39m(\u001B[38;5;28mself\u001B[39m, data) \u001B[38;5;241m-\u001B[39m\u001B[38;5;241m>\u001B[39m \u001B[38;5;28;01mNone\u001B[39;00m:\n\u001B[1;32m    179\u001B[0m     \u001B[38;5;28;01mfrom\u001B[39;00m \u001B[38;5;21;01mpandas\u001B[39;00m\u001B[38;5;21;01m.\u001B[39;00m\u001B[38;5;21;01mcore\u001B[39;00m\u001B[38;5;21;01m.\u001B[39;00m\u001B[38;5;21;01marrays\u001B[39;00m\u001B[38;5;21;01m.\u001B[39;00m\u001B[38;5;21;01mstring_\u001B[39;00m \u001B[38;5;28;01mimport\u001B[39;00m StringDtype\n\u001B[0;32m--> 181\u001B[0m     \u001B[38;5;28mself\u001B[39m\u001B[38;5;241m.\u001B[39m_inferred_dtype \u001B[38;5;241m=\u001B[39m \u001B[38;5;28;43mself\u001B[39;49m\u001B[38;5;241;43m.\u001B[39;49m\u001B[43m_validate\u001B[49m\u001B[43m(\u001B[49m\u001B[43mdata\u001B[49m\u001B[43m)\u001B[49m\n\u001B[1;32m    182\u001B[0m     \u001B[38;5;28mself\u001B[39m\u001B[38;5;241m.\u001B[39m_is_categorical \u001B[38;5;241m=\u001B[39m is_categorical_dtype(data\u001B[38;5;241m.\u001B[39mdtype)\n\u001B[1;32m    183\u001B[0m     \u001B[38;5;28mself\u001B[39m\u001B[38;5;241m.\u001B[39m_is_string \u001B[38;5;241m=\u001B[39m \u001B[38;5;28misinstance\u001B[39m(data\u001B[38;5;241m.\u001B[39mdtype, StringDtype)\n",
      "File \u001B[0;32m~/PycharmProjects/pythonProject/venv/lib/python3.10/site-packages/pandas/core/strings/accessor.py:235\u001B[0m, in \u001B[0;36mStringMethods._validate\u001B[0;34m(data)\u001B[0m\n\u001B[1;32m    232\u001B[0m inferred_dtype \u001B[38;5;241m=\u001B[39m lib\u001B[38;5;241m.\u001B[39minfer_dtype(values, skipna\u001B[38;5;241m=\u001B[39m\u001B[38;5;28;01mTrue\u001B[39;00m)\n\u001B[1;32m    234\u001B[0m \u001B[38;5;28;01mif\u001B[39;00m inferred_dtype \u001B[38;5;129;01mnot\u001B[39;00m \u001B[38;5;129;01min\u001B[39;00m allowed_types:\n\u001B[0;32m--> 235\u001B[0m     \u001B[38;5;28;01mraise\u001B[39;00m \u001B[38;5;167;01mAttributeError\u001B[39;00m(\u001B[38;5;124m\"\u001B[39m\u001B[38;5;124mCan only use .str accessor with string values!\u001B[39m\u001B[38;5;124m\"\u001B[39m)\n\u001B[1;32m    236\u001B[0m \u001B[38;5;28;01mreturn\u001B[39;00m inferred_dtype\n",
      "\u001B[0;31mAttributeError\u001B[0m: Can only use .str accessor with string values!"
     ]
    }
   ],
   "source": [
    "X['lon_ocorrencia'] = X['lon_ocorrencia'].str.split('-').apply(lambda x: pd.Series(x)).astype(float).mean(axis=1)\n",
    "X['lat_ocorrencia'] = X['lat_ocorrencia'].str.split('-').apply(lambda x: pd.Series(x)).astype(float).mean(axis=1)\n"
   ],
   "metadata": {
    "collapsed": false,
    "ExecuteTime": {
     "end_time": "2023-07-26T12:00:23.772049560Z",
     "start_time": "2023-07-26T12:00:23.656304791Z"
    }
   }
  },
  {
   "cell_type": "code",
   "execution_count": 8,
   "outputs": [
    {
     "name": "stderr",
     "output_type": "stream",
     "text": [
      "/home/dsciaux1/PycharmProjects/pythonProject/venv/lib/python3.10/site-packages/sklearn/cluster/_kmeans.py:870: FutureWarning: The default value of `n_init` will change from 10 to 'auto' in 1.4. Set the value of `n_init` explicitly to suppress the warning\n",
      "  warnings.warn(\n",
      "/home/dsciaux1/PycharmProjects/pythonProject/venv/lib/python3.10/site-packages/sklearn/cluster/_kmeans.py:870: FutureWarning: The default value of `n_init` will change from 10 to 'auto' in 1.4. Set the value of `n_init` explicitly to suppress the warning\n",
      "  warnings.warn(\n"
     ]
    },
    {
     "name": "stdout",
     "output_type": "stream",
     "text": [
      "<bound method DataFrame.info of cluster_label   0  1  2  3\n",
      "Date                      \n",
      "2018-01-01     13  9  0  0\n",
      "2018-01-02     12  3  0  0\n",
      "2018-01-03     14  6  0  0\n",
      "2018-01-04      9  4  0  0\n",
      "2018-01-05     14  5  0  0\n",
      "...            .. .. .. ..\n",
      "2023-07-13      6  3  0  0\n",
      "2023-07-14      8  2  0  0\n",
      "2023-07-15      2  1  0  0\n",
      "2023-07-16      4  4  0  0\n",
      "2023-07-17      0  1  0  0\n",
      "\n",
      "[2023 rows x 4 columns]>\n"
     ]
    }
   ],
   "source": [
    "from sklearn.cluster import KMeans\n",
    "\n",
    "kmeans = KMeans(n_clusters = 4, init ='k-means++', random_state = 12)\n",
    "kmeans.fit(X[X.columns[3:5]]) # Compute k-means clustering.\n",
    "X['cluster_label'] = kmeans.fit_predict(X[X.columns[3:5]])\n",
    "centers = kmeans.cluster_centers_ # Coordinates of cluster centers.\n",
    "labels = kmeans.predict(X[X.columns[3:5]]) # Labels of each point\n",
    "\n",
    "\n",
    "Data = pd.DataFrame()\n",
    "#print(Data)\n",
    "\n",
    "\n",
    "#criar coluna X_dia\n",
    "\n",
    "X['cluster_label'] = X['cluster_label'].astype('category')\n",
    "v = X.groupby(['Date', 'cluster_label']).size().unstack(fill_value=0)\n",
    "#binary_z = (z > 0).astype(int) #changing to binary dataset\n",
    "#v = binary_z\n",
    "\n",
    "print(v.info)"
   ],
   "metadata": {
    "collapsed": false,
    "ExecuteTime": {
     "end_time": "2023-07-26T14:50:24.342615887Z",
     "start_time": "2023-07-26T14:50:22.197843720Z"
    }
   }
  },
  {
   "cell_type": "code",
   "execution_count": null,
   "outputs": [],
   "source": [],
   "metadata": {
    "collapsed": false
   }
  }
 ],
 "metadata": {
  "kernelspec": {
   "display_name": "Python 3",
   "language": "python",
   "name": "python3"
  },
  "language_info": {
   "codemirror_mode": {
    "name": "ipython",
    "version": 2
   },
   "file_extension": ".py",
   "mimetype": "text/x-python",
   "name": "python",
   "nbconvert_exporter": "python",
   "pygments_lexer": "ipython2",
   "version": "2.7.6"
  }
 },
 "nbformat": 4,
 "nbformat_minor": 0
}
