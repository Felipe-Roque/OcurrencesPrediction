{
 "cells": [
  {
   "cell_type": "markdown",
   "source": [
    "# **Dicionário**\n",
    "\n",
    "id_ocorrencia - identificação única da ocorrência\n",
    "\n",
    "cidade - A cidade onde aconteceu a ocorrência\n",
    "\n",
    "população - Pupulação da cidade\n",
    "\n",
    "horario - horario da ocorrencia com data e hora\n",
    "\n",
    "vtr - viatura empenhanha na ocorrencia\n",
    "\n",
    "mtcl - matricula do militar ou cpf do Bombeiro comunitario\n",
    "\n",
    "militar_bc - identificação se o individuo é Bombeiro Comunitário ou Bombeiro\n",
    "Militar\n",
    "\n",
    "bc_indenizado - Identifica se o Bombeiro Comunitario estava no serviço sendo\n",
    "pago(indenizado) ou não\n",
    "\n",
    "obm - Organização Bombeiro Militar que estava na ocorrência\n",
    "\n",
    "coordenada_obm - Coordenada da organização Bombeiro Militar\n",
    "\n",
    "coordenada_ocorrencia - Coordenada da Ocorrência\n",
    "\n",
    "lat_ocorrencia - Latitude ocorrência\n",
    "\n",
    "lon_ocorrencia - Longitude Ocorrência\n",
    "\n",
    "tipo - Tipo da ocorrência, pode ser Atendimento pré-hospitalar - APH, incendio, acidente e outros.\n",
    "\n",
    "subtipo - especifica o tipo, num APH, pode especificar desmaio, nem sempre é preenchido.\n",
    "\n",
    "tempo_resposta - Tempo do acionamento até a chegada ao local da ocorrêcia, pode ser um dado que estaja bem falho, pois acontece do bombeiro esquecer de clicar no botão\n",
    "\n",
    "tempo_total_empenho - tempo total da saída da obm até a chegada a obm novamente.\n",
    "firecast - indica se uma viatura utilizou o sistema \"firecast\" para dar J-9, J-10, J-11 e J-12 nos deslocamentos\n",
    "\n",
    "origem_samu - Se foi um repasse da ocorrência que era do samu\n",
    "\n",
    "vitima - geração no sistema, talvez de pra gerar o número de vítimas, nome, idade, alguns sinais vitais."
   ],
   "metadata": {
    "collapsed": false
   }
  },
  {
   "cell_type": "code",
   "execution_count": 1,
   "outputs": [
    {
     "name": "stdout",
     "output_type": "stream",
     "text": [
      "Number of missing values in 'lat_ocorrencia': 9\n",
      "Number of missing values in 'lon_ocorrencia': 9\n"
     ]
    }
   ],
   "source": [
    "import pandas as pd\n",
    "\n",
    "# Load the data into a DataFrame\n",
    "df = pd.read_csv('Data/datasets/datasetTratadoFloripa5.csv', sep=',', thousands=',')\n",
    "\n",
    "# Drop duplicates based on 'NrOcorrência'\n",
    "X = df.drop_duplicates(subset=\"NrOcorrência\", keep=False)\n",
    "\n",
    "# Select the columns of interest\n",
    "X = X.loc[:, ['NrOcorrência', 'Cidade', 'Data/Hora', 'lat_ocorrencia', 'lon_ocorrencia', 'TipoOcorrênciaEncerramento']]\n",
    "\n",
    "# Count the number of missing values in 'lat_ocorrencia' and 'lon_ocorrencia' columns\n",
    "missing_lat = X['lat_ocorrencia'].isna().sum()\n",
    "missing_lon = X['lon_ocorrencia'].isna().sum()\n",
    "\n",
    "print(\"Number of missing values in 'lat_ocorrencia':\", missing_lat)\n",
    "print(\"Number of missing values in 'lon_ocorrencia':\", missing_lon)"
   ],
   "metadata": {
    "collapsed": false,
    "ExecuteTime": {
     "end_time": "2023-08-04T12:44:20.896031600Z",
     "start_time": "2023-08-04T12:44:20.326254969Z"
    }
   }
  },
  {
   "cell_type": "code",
   "execution_count": 2,
   "outputs": [
    {
     "data": {
      "text/plain": "       NrOcorrência         Cidade            Data/Hora  lat_ocorrencia  \\\n0        10085306.0  Florianópolis  2018-01-01 01:07:47      -48.583567   \n1        10085307.0  Florianópolis  2018-01-01 01:51:00      -48.499719   \n2        10085308.0  Florianópolis  2018-01-01 01:51:00      -48.499704   \n3        10085311.0  Florianópolis  2018-01-01 02:34:00      -48.430948   \n4        10085313.0  Florianópolis  2018-01-01 04:56:00      -48.502000   \n...             ...            ...                  ...             ...   \n64970   130319412.0  Florianópolis  2023-07-30 20:27:56      -48.400281   \n64971   130319424.0  Florianópolis  2023-07-30 20:49:08      -48.600708   \n64972   130319461.0  Florianópolis  2023-07-30 21:51:51      -48.504686   \n64973   130319468.0  Florianópolis  2023-07-30 22:20:41      -48.552170   \n64974   130319514.0  Florianópolis  2023-07-31 03:59:59      -48.405436   \n\n       lon_ocorrencia  TipoOcorrênciaEncerramento  \n0          -27.603720  ATENDIMENTO PRÉ-HOSPITALAR  \n1          -27.438892  ATENDIMENTO PRÉ-HOSPITALAR  \n2          -27.438914     OCORRÊNCIA NÃO ATENDIDA  \n3          -27.573438  ATENDIMENTO PRÉ-HOSPITALAR  \n4          -27.446556  ATENDIMENTO PRÉ-HOSPITALAR  \n...               ...                         ...  \n64970      -27.456841  ATENDIMENTO PRÉ-HOSPITALAR  \n64971      -27.595756  ATENDIMENTO PRÉ-HOSPITALAR  \n64972      -27.678832     OCORRÊNCIA NÃO ATENDIDA  \n64973      -27.598435  ATENDIMENTO PRÉ-HOSPITALAR  \n64974      -27.452575  ATENDIMENTO PRÉ-HOSPITALAR  \n\n[48320 rows x 6 columns]",
      "text/html": "<div>\n<style scoped>\n    .dataframe tbody tr th:only-of-type {\n        vertical-align: middle;\n    }\n\n    .dataframe tbody tr th {\n        vertical-align: top;\n    }\n\n    .dataframe thead th {\n        text-align: right;\n    }\n</style>\n<table border=\"1\" class=\"dataframe\">\n  <thead>\n    <tr style=\"text-align: right;\">\n      <th></th>\n      <th>NrOcorrência</th>\n      <th>Cidade</th>\n      <th>Data/Hora</th>\n      <th>lat_ocorrencia</th>\n      <th>lon_ocorrencia</th>\n      <th>TipoOcorrênciaEncerramento</th>\n    </tr>\n  </thead>\n  <tbody>\n    <tr>\n      <th>0</th>\n      <td>10085306.0</td>\n      <td>Florianópolis</td>\n      <td>2018-01-01 01:07:47</td>\n      <td>-48.583567</td>\n      <td>-27.603720</td>\n      <td>ATENDIMENTO PRÉ-HOSPITALAR</td>\n    </tr>\n    <tr>\n      <th>1</th>\n      <td>10085307.0</td>\n      <td>Florianópolis</td>\n      <td>2018-01-01 01:51:00</td>\n      <td>-48.499719</td>\n      <td>-27.438892</td>\n      <td>ATENDIMENTO PRÉ-HOSPITALAR</td>\n    </tr>\n    <tr>\n      <th>2</th>\n      <td>10085308.0</td>\n      <td>Florianópolis</td>\n      <td>2018-01-01 01:51:00</td>\n      <td>-48.499704</td>\n      <td>-27.438914</td>\n      <td>OCORRÊNCIA NÃO ATENDIDA</td>\n    </tr>\n    <tr>\n      <th>3</th>\n      <td>10085311.0</td>\n      <td>Florianópolis</td>\n      <td>2018-01-01 02:34:00</td>\n      <td>-48.430948</td>\n      <td>-27.573438</td>\n      <td>ATENDIMENTO PRÉ-HOSPITALAR</td>\n    </tr>\n    <tr>\n      <th>4</th>\n      <td>10085313.0</td>\n      <td>Florianópolis</td>\n      <td>2018-01-01 04:56:00</td>\n      <td>-48.502000</td>\n      <td>-27.446556</td>\n      <td>ATENDIMENTO PRÉ-HOSPITALAR</td>\n    </tr>\n    <tr>\n      <th>...</th>\n      <td>...</td>\n      <td>...</td>\n      <td>...</td>\n      <td>...</td>\n      <td>...</td>\n      <td>...</td>\n    </tr>\n    <tr>\n      <th>64970</th>\n      <td>130319412.0</td>\n      <td>Florianópolis</td>\n      <td>2023-07-30 20:27:56</td>\n      <td>-48.400281</td>\n      <td>-27.456841</td>\n      <td>ATENDIMENTO PRÉ-HOSPITALAR</td>\n    </tr>\n    <tr>\n      <th>64971</th>\n      <td>130319424.0</td>\n      <td>Florianópolis</td>\n      <td>2023-07-30 20:49:08</td>\n      <td>-48.600708</td>\n      <td>-27.595756</td>\n      <td>ATENDIMENTO PRÉ-HOSPITALAR</td>\n    </tr>\n    <tr>\n      <th>64972</th>\n      <td>130319461.0</td>\n      <td>Florianópolis</td>\n      <td>2023-07-30 21:51:51</td>\n      <td>-48.504686</td>\n      <td>-27.678832</td>\n      <td>OCORRÊNCIA NÃO ATENDIDA</td>\n    </tr>\n    <tr>\n      <th>64973</th>\n      <td>130319468.0</td>\n      <td>Florianópolis</td>\n      <td>2023-07-30 22:20:41</td>\n      <td>-48.552170</td>\n      <td>-27.598435</td>\n      <td>ATENDIMENTO PRÉ-HOSPITALAR</td>\n    </tr>\n    <tr>\n      <th>64974</th>\n      <td>130319514.0</td>\n      <td>Florianópolis</td>\n      <td>2023-07-31 03:59:59</td>\n      <td>-48.405436</td>\n      <td>-27.452575</td>\n      <td>ATENDIMENTO PRÉ-HOSPITALAR</td>\n    </tr>\n  </tbody>\n</table>\n<p>48320 rows × 6 columns</p>\n</div>"
     },
     "execution_count": 2,
     "metadata": {},
     "output_type": "execute_result"
    }
   ],
   "source": [
    "X"
   ],
   "metadata": {
    "collapsed": false,
    "ExecuteTime": {
     "end_time": "2023-08-04T12:44:25.973140034Z",
     "start_time": "2023-08-04T12:44:25.965336664Z"
    }
   }
  },
  {
   "cell_type": "code",
   "execution_count": 3,
   "outputs": [
    {
     "data": {
      "text/plain": "       NrOcorrência         Cidade            Data/Hora  lat_ocorrencia  \\\n0        10085306.0  Florianópolis  2018-01-01 01:07:47      -48.583567   \n1        10085307.0  Florianópolis  2018-01-01 01:51:00      -48.499719   \n3        10085311.0  Florianópolis  2018-01-01 02:34:00      -48.430948   \n4        10085313.0  Florianópolis  2018-01-01 04:56:00      -48.502000   \n5        10085314.0  Florianópolis  2018-01-01 05:25:00      -48.446964   \n...             ...            ...                  ...             ...   \n64968   130319356.0  Florianópolis  2023-07-30 19:04:54      -48.397082   \n64970   130319412.0  Florianópolis  2023-07-30 20:27:56      -48.400281   \n64971   130319424.0  Florianópolis  2023-07-30 20:49:08      -48.600708   \n64973   130319468.0  Florianópolis  2023-07-30 22:20:41      -48.552170   \n64974   130319514.0  Florianópolis  2023-07-31 03:59:59      -48.405436   \n\n       lon_ocorrencia  TipoOcorrênciaEncerramento  \n0          -27.603720  ATENDIMENTO PRÉ-HOSPITALAR  \n1          -27.438892  ATENDIMENTO PRÉ-HOSPITALAR  \n3          -27.573438  ATENDIMENTO PRÉ-HOSPITALAR  \n4          -27.446556  ATENDIMENTO PRÉ-HOSPITALAR  \n5          -27.609410  ATENDIMENTO PRÉ-HOSPITALAR  \n...               ...                         ...  \n64968      -27.452763  ATENDIMENTO PRÉ-HOSPITALAR  \n64970      -27.456841  ATENDIMENTO PRÉ-HOSPITALAR  \n64971      -27.595756  ATENDIMENTO PRÉ-HOSPITALAR  \n64973      -27.598435  ATENDIMENTO PRÉ-HOSPITALAR  \n64974      -27.452575  ATENDIMENTO PRÉ-HOSPITALAR  \n\n[25282 rows x 6 columns]",
      "text/html": "<div>\n<style scoped>\n    .dataframe tbody tr th:only-of-type {\n        vertical-align: middle;\n    }\n\n    .dataframe tbody tr th {\n        vertical-align: top;\n    }\n\n    .dataframe thead th {\n        text-align: right;\n    }\n</style>\n<table border=\"1\" class=\"dataframe\">\n  <thead>\n    <tr style=\"text-align: right;\">\n      <th></th>\n      <th>NrOcorrência</th>\n      <th>Cidade</th>\n      <th>Data/Hora</th>\n      <th>lat_ocorrencia</th>\n      <th>lon_ocorrencia</th>\n      <th>TipoOcorrênciaEncerramento</th>\n    </tr>\n  </thead>\n  <tbody>\n    <tr>\n      <th>0</th>\n      <td>10085306.0</td>\n      <td>Florianópolis</td>\n      <td>2018-01-01 01:07:47</td>\n      <td>-48.583567</td>\n      <td>-27.603720</td>\n      <td>ATENDIMENTO PRÉ-HOSPITALAR</td>\n    </tr>\n    <tr>\n      <th>1</th>\n      <td>10085307.0</td>\n      <td>Florianópolis</td>\n      <td>2018-01-01 01:51:00</td>\n      <td>-48.499719</td>\n      <td>-27.438892</td>\n      <td>ATENDIMENTO PRÉ-HOSPITALAR</td>\n    </tr>\n    <tr>\n      <th>3</th>\n      <td>10085311.0</td>\n      <td>Florianópolis</td>\n      <td>2018-01-01 02:34:00</td>\n      <td>-48.430948</td>\n      <td>-27.573438</td>\n      <td>ATENDIMENTO PRÉ-HOSPITALAR</td>\n    </tr>\n    <tr>\n      <th>4</th>\n      <td>10085313.0</td>\n      <td>Florianópolis</td>\n      <td>2018-01-01 04:56:00</td>\n      <td>-48.502000</td>\n      <td>-27.446556</td>\n      <td>ATENDIMENTO PRÉ-HOSPITALAR</td>\n    </tr>\n    <tr>\n      <th>5</th>\n      <td>10085314.0</td>\n      <td>Florianópolis</td>\n      <td>2018-01-01 05:25:00</td>\n      <td>-48.446964</td>\n      <td>-27.609410</td>\n      <td>ATENDIMENTO PRÉ-HOSPITALAR</td>\n    </tr>\n    <tr>\n      <th>...</th>\n      <td>...</td>\n      <td>...</td>\n      <td>...</td>\n      <td>...</td>\n      <td>...</td>\n      <td>...</td>\n    </tr>\n    <tr>\n      <th>64968</th>\n      <td>130319356.0</td>\n      <td>Florianópolis</td>\n      <td>2023-07-30 19:04:54</td>\n      <td>-48.397082</td>\n      <td>-27.452763</td>\n      <td>ATENDIMENTO PRÉ-HOSPITALAR</td>\n    </tr>\n    <tr>\n      <th>64970</th>\n      <td>130319412.0</td>\n      <td>Florianópolis</td>\n      <td>2023-07-30 20:27:56</td>\n      <td>-48.400281</td>\n      <td>-27.456841</td>\n      <td>ATENDIMENTO PRÉ-HOSPITALAR</td>\n    </tr>\n    <tr>\n      <th>64971</th>\n      <td>130319424.0</td>\n      <td>Florianópolis</td>\n      <td>2023-07-30 20:49:08</td>\n      <td>-48.600708</td>\n      <td>-27.595756</td>\n      <td>ATENDIMENTO PRÉ-HOSPITALAR</td>\n    </tr>\n    <tr>\n      <th>64973</th>\n      <td>130319468.0</td>\n      <td>Florianópolis</td>\n      <td>2023-07-30 22:20:41</td>\n      <td>-48.552170</td>\n      <td>-27.598435</td>\n      <td>ATENDIMENTO PRÉ-HOSPITALAR</td>\n    </tr>\n    <tr>\n      <th>64974</th>\n      <td>130319514.0</td>\n      <td>Florianópolis</td>\n      <td>2023-07-31 03:59:59</td>\n      <td>-48.405436</td>\n      <td>-27.452575</td>\n      <td>ATENDIMENTO PRÉ-HOSPITALAR</td>\n    </tr>\n  </tbody>\n</table>\n<p>25282 rows × 6 columns</p>\n</div>"
     },
     "execution_count": 3,
     "metadata": {},
     "output_type": "execute_result"
    }
   ],
   "source": [
    "X = X.loc[X['TipoOcorrênciaEncerramento'] == 'ATENDIMENTO PRÉ-HOSPITALAR']\n",
    "X"
   ],
   "metadata": {
    "collapsed": false,
    "ExecuteTime": {
     "end_time": "2023-08-04T12:44:42.814392189Z",
     "start_time": "2023-08-04T12:44:42.795542911Z"
    }
   }
  },
  {
   "cell_type": "code",
   "execution_count": 4,
   "outputs": [
    {
     "name": "stdout",
     "output_type": "stream",
     "text": [
      "Number of missing values in 'lat_ocorrencia': 3\n",
      "Number of missing values in 'lon_ocorrencia': 3\n"
     ]
    },
    {
     "name": "stderr",
     "output_type": "stream",
     "text": [
      "/tmp/ipykernel_119059/4007897682.py:1: SettingWithCopyWarning: \n",
      "A value is trying to be set on a copy of a slice from a DataFrame.\n",
      "Try using .loc[row_indexer,col_indexer] = value instead\n",
      "\n",
      "See the caveats in the documentation: https://pandas.pydata.org/pandas-docs/stable/user_guide/indexing.html#returning-a-view-versus-a-copy\n",
      "  X[\"Date\"] = pd.to_datetime(X[\"Data/Hora\"], infer_datetime_format=True).dt.floor('1D')\n"
     ]
    },
    {
     "data": {
      "text/plain": "       NrOcorrência         Cidade            Data/Hora  lat_ocorrencia  \\\n0        10085306.0  Florianópolis  2018-01-01 01:07:47      -48.583567   \n1        10085307.0  Florianópolis  2018-01-01 01:51:00      -48.499719   \n3        10085311.0  Florianópolis  2018-01-01 02:34:00      -48.430948   \n4        10085313.0  Florianópolis  2018-01-01 04:56:00      -48.502000   \n5        10085314.0  Florianópolis  2018-01-01 05:25:00      -48.446964   \n...             ...            ...                  ...             ...   \n64968   130319356.0  Florianópolis  2023-07-30 19:04:54      -48.397082   \n64970   130319412.0  Florianópolis  2023-07-30 20:27:56      -48.400281   \n64971   130319424.0  Florianópolis  2023-07-30 20:49:08      -48.600708   \n64973   130319468.0  Florianópolis  2023-07-30 22:20:41      -48.552170   \n64974   130319514.0  Florianópolis  2023-07-31 03:59:59      -48.405436   \n\n       lon_ocorrencia  TipoOcorrênciaEncerramento       Date  \n0          -27.603720  ATENDIMENTO PRÉ-HOSPITALAR 2018-01-01  \n1          -27.438892  ATENDIMENTO PRÉ-HOSPITALAR 2018-01-01  \n3          -27.573438  ATENDIMENTO PRÉ-HOSPITALAR 2018-01-01  \n4          -27.446556  ATENDIMENTO PRÉ-HOSPITALAR 2018-01-01  \n5          -27.609410  ATENDIMENTO PRÉ-HOSPITALAR 2018-01-01  \n...               ...                         ...        ...  \n64968      -27.452763  ATENDIMENTO PRÉ-HOSPITALAR 2023-07-30  \n64970      -27.456841  ATENDIMENTO PRÉ-HOSPITALAR 2023-07-30  \n64971      -27.595756  ATENDIMENTO PRÉ-HOSPITALAR 2023-07-30  \n64973      -27.598435  ATENDIMENTO PRÉ-HOSPITALAR 2023-07-30  \n64974      -27.452575  ATENDIMENTO PRÉ-HOSPITALAR 2023-07-31  \n\n[25282 rows x 7 columns]",
      "text/html": "<div>\n<style scoped>\n    .dataframe tbody tr th:only-of-type {\n        vertical-align: middle;\n    }\n\n    .dataframe tbody tr th {\n        vertical-align: top;\n    }\n\n    .dataframe thead th {\n        text-align: right;\n    }\n</style>\n<table border=\"1\" class=\"dataframe\">\n  <thead>\n    <tr style=\"text-align: right;\">\n      <th></th>\n      <th>NrOcorrência</th>\n      <th>Cidade</th>\n      <th>Data/Hora</th>\n      <th>lat_ocorrencia</th>\n      <th>lon_ocorrencia</th>\n      <th>TipoOcorrênciaEncerramento</th>\n      <th>Date</th>\n    </tr>\n  </thead>\n  <tbody>\n    <tr>\n      <th>0</th>\n      <td>10085306.0</td>\n      <td>Florianópolis</td>\n      <td>2018-01-01 01:07:47</td>\n      <td>-48.583567</td>\n      <td>-27.603720</td>\n      <td>ATENDIMENTO PRÉ-HOSPITALAR</td>\n      <td>2018-01-01</td>\n    </tr>\n    <tr>\n      <th>1</th>\n      <td>10085307.0</td>\n      <td>Florianópolis</td>\n      <td>2018-01-01 01:51:00</td>\n      <td>-48.499719</td>\n      <td>-27.438892</td>\n      <td>ATENDIMENTO PRÉ-HOSPITALAR</td>\n      <td>2018-01-01</td>\n    </tr>\n    <tr>\n      <th>3</th>\n      <td>10085311.0</td>\n      <td>Florianópolis</td>\n      <td>2018-01-01 02:34:00</td>\n      <td>-48.430948</td>\n      <td>-27.573438</td>\n      <td>ATENDIMENTO PRÉ-HOSPITALAR</td>\n      <td>2018-01-01</td>\n    </tr>\n    <tr>\n      <th>4</th>\n      <td>10085313.0</td>\n      <td>Florianópolis</td>\n      <td>2018-01-01 04:56:00</td>\n      <td>-48.502000</td>\n      <td>-27.446556</td>\n      <td>ATENDIMENTO PRÉ-HOSPITALAR</td>\n      <td>2018-01-01</td>\n    </tr>\n    <tr>\n      <th>5</th>\n      <td>10085314.0</td>\n      <td>Florianópolis</td>\n      <td>2018-01-01 05:25:00</td>\n      <td>-48.446964</td>\n      <td>-27.609410</td>\n      <td>ATENDIMENTO PRÉ-HOSPITALAR</td>\n      <td>2018-01-01</td>\n    </tr>\n    <tr>\n      <th>...</th>\n      <td>...</td>\n      <td>...</td>\n      <td>...</td>\n      <td>...</td>\n      <td>...</td>\n      <td>...</td>\n      <td>...</td>\n    </tr>\n    <tr>\n      <th>64968</th>\n      <td>130319356.0</td>\n      <td>Florianópolis</td>\n      <td>2023-07-30 19:04:54</td>\n      <td>-48.397082</td>\n      <td>-27.452763</td>\n      <td>ATENDIMENTO PRÉ-HOSPITALAR</td>\n      <td>2023-07-30</td>\n    </tr>\n    <tr>\n      <th>64970</th>\n      <td>130319412.0</td>\n      <td>Florianópolis</td>\n      <td>2023-07-30 20:27:56</td>\n      <td>-48.400281</td>\n      <td>-27.456841</td>\n      <td>ATENDIMENTO PRÉ-HOSPITALAR</td>\n      <td>2023-07-30</td>\n    </tr>\n    <tr>\n      <th>64971</th>\n      <td>130319424.0</td>\n      <td>Florianópolis</td>\n      <td>2023-07-30 20:49:08</td>\n      <td>-48.600708</td>\n      <td>-27.595756</td>\n      <td>ATENDIMENTO PRÉ-HOSPITALAR</td>\n      <td>2023-07-30</td>\n    </tr>\n    <tr>\n      <th>64973</th>\n      <td>130319468.0</td>\n      <td>Florianópolis</td>\n      <td>2023-07-30 22:20:41</td>\n      <td>-48.552170</td>\n      <td>-27.598435</td>\n      <td>ATENDIMENTO PRÉ-HOSPITALAR</td>\n      <td>2023-07-30</td>\n    </tr>\n    <tr>\n      <th>64974</th>\n      <td>130319514.0</td>\n      <td>Florianópolis</td>\n      <td>2023-07-31 03:59:59</td>\n      <td>-48.405436</td>\n      <td>-27.452575</td>\n      <td>ATENDIMENTO PRÉ-HOSPITALAR</td>\n      <td>2023-07-31</td>\n    </tr>\n  </tbody>\n</table>\n<p>25282 rows × 7 columns</p>\n</div>"
     },
     "execution_count": 4,
     "metadata": {},
     "output_type": "execute_result"
    }
   ],
   "source": [
    "X[\"Date\"] = pd.to_datetime(X[\"Data/Hora\"], infer_datetime_format=True).dt.floor('1D')\n",
    "missing_lat = X['lat_ocorrencia'].isna().sum()\n",
    "missing_lon = X['lon_ocorrencia'].isna().sum()\n",
    "\n",
    "print(\"Number of missing values in 'lat_ocorrencia':\", missing_lat)\n",
    "print(\"Number of missing values in 'lon_ocorrencia':\", missing_lon)\n",
    "X"
   ],
   "metadata": {
    "collapsed": false,
    "ExecuteTime": {
     "end_time": "2023-08-04T12:45:41.058485263Z",
     "start_time": "2023-08-04T12:45:41.043232998Z"
    }
   }
  },
  {
   "cell_type": "code",
   "execution_count": 5,
   "outputs": [
    {
     "data": {
      "text/plain": "Date  TipoOcorrênciaEncerramento\n2018  ATENDIMENTO PRÉ-HOSPITALAR    4565\n2019  ATENDIMENTO PRÉ-HOSPITALAR    5038\n2020  ATENDIMENTO PRÉ-HOSPITALAR    3744\n2021  ATENDIMENTO PRÉ-HOSPITALAR    4284\n2022  ATENDIMENTO PRÉ-HOSPITALAR    4668\n2023  ATENDIMENTO PRÉ-HOSPITALAR    2983\nName: Date, dtype: int64"
     },
     "execution_count": 5,
     "metadata": {},
     "output_type": "execute_result"
    }
   ],
   "source": [
    "X['Date'].groupby([X.Date.dt.year, X.TipoOcorrênciaEncerramento]).agg('count')\n"
   ],
   "metadata": {
    "collapsed": false,
    "ExecuteTime": {
     "end_time": "2023-08-04T12:46:00.574272524Z",
     "start_time": "2023-08-04T12:46:00.529945064Z"
    }
   }
  },
  {
   "cell_type": "code",
   "execution_count": 7,
   "outputs": [
    {
     "name": "stdout",
     "output_type": "stream",
     "text": [
      "Number of NaN values in 'lat_ocorrencia' and 'lon_ocorrencia' before dropping: 6\n",
      "Number of NaN values in 'lat_ocorrencia' and 'lon_ocorrencia' after dropping: 0\n",
      "Number of rows dropped: 3\n"
     ]
    }
   ],
   "source": [
    "# Count the number of NaN values in 'lat_ocorrencia' and 'lon_ocorrencia' before dropping\n",
    "num_nan_before = X['lat_ocorrencia'].isnull().sum() + X['lon_ocorrencia'].isnull().sum()\n",
    "\n",
    "# Drop the rows with NaN values in 'lat_ocorrencia' and 'lon_ocorrencia'\n",
    "df_dropped = X.dropna(subset=['lat_ocorrencia', 'lon_ocorrencia'])\n",
    "\n",
    "# Count the number of NaN values in 'lat_ocorrencia' and 'lon_ocorrencia' after dropping\n",
    "num_nan_after = df_dropped['lat_ocorrencia'].isnull().sum() + df_dropped['lon_ocorrencia'].isnull().sum()\n",
    "\n",
    "# Calculate the number of rows dropped\n",
    "num_rows_dropped = len(X) - len(df_dropped)\n",
    "\n",
    "print(f\"Number of NaN values in 'lat_ocorrencia' and 'lon_ocorrencia' before dropping: {num_nan_before}\")\n",
    "print(f\"Number of NaN values in 'lat_ocorrencia' and 'lon_ocorrencia' after dropping: {num_nan_after}\")\n",
    "print(f\"Number of rows dropped: {num_rows_dropped}\")"
   ],
   "metadata": {
    "collapsed": false,
    "ExecuteTime": {
     "end_time": "2023-08-04T12:50:51.497939267Z",
     "start_time": "2023-08-04T12:50:51.450040539Z"
    }
   }
  },
  {
   "cell_type": "code",
   "execution_count": 9,
   "outputs": [
    {
     "name": "stderr",
     "output_type": "stream",
     "text": [
      "/home/dsciaux1/PycharmProjects/pythonProject/venv/lib/python3.10/site-packages/sklearn/cluster/_kmeans.py:870: FutureWarning: The default value of `n_init` will change from 10 to 'auto' in 1.4. Set the value of `n_init` explicitly to suppress the warning\n",
      "  warnings.warn(\n",
      "/home/dsciaux1/PycharmProjects/pythonProject/venv/lib/python3.10/site-packages/sklearn/cluster/_kmeans.py:870: FutureWarning: The default value of `n_init` will change from 10 to 'auto' in 1.4. Set the value of `n_init` explicitly to suppress the warning\n",
      "  warnings.warn(\n"
     ]
    },
    {
     "name": "stdout",
     "output_type": "stream",
     "text": [
      "<bound method DataFrame.info of cluster_label   0   1  2  3\n",
      "Date                       \n",
      "2018-01-01     10  12  0  0\n",
      "2018-01-02     11   4  0  0\n",
      "2018-01-03     12   8  0  0\n",
      "2018-01-04      9   4  0  0\n",
      "2018-01-05     13   6  0  0\n",
      "...            ..  .. .. ..\n",
      "2023-07-27      9   7  0  0\n",
      "2023-07-28     11   4  0  0\n",
      "2023-07-29      5   6  0  0\n",
      "2023-07-30      9   3  0  0\n",
      "2023-07-31      0   1  0  0\n",
      "\n",
      "[2037 rows x 4 columns]>\n"
     ]
    },
    {
     "name": "stderr",
     "output_type": "stream",
     "text": [
      "/tmp/ipykernel_119059/3829627048.py:5: SettingWithCopyWarning: \n",
      "A value is trying to be set on a copy of a slice from a DataFrame.\n",
      "Try using .loc[row_indexer,col_indexer] = value instead\n",
      "\n",
      "See the caveats in the documentation: https://pandas.pydata.org/pandas-docs/stable/user_guide/indexing.html#returning-a-view-versus-a-copy\n",
      "  df_dropped['cluster_label'] = kmeans.fit_predict(df_dropped[df_dropped.columns[3:5]])\n",
      "/tmp/ipykernel_119059/3829627048.py:16: SettingWithCopyWarning: \n",
      "A value is trying to be set on a copy of a slice from a DataFrame.\n",
      "Try using .loc[row_indexer,col_indexer] = value instead\n",
      "\n",
      "See the caveats in the documentation: https://pandas.pydata.org/pandas-docs/stable/user_guide/indexing.html#returning-a-view-versus-a-copy\n",
      "  df_dropped['cluster_label'] = df_dropped['cluster_label'].astype('category')\n"
     ]
    }
   ],
   "source": [
    "from sklearn.cluster import KMeans\n",
    "\n",
    "kmeans = KMeans(n_clusters = 4, init ='k-means++', random_state = 12)\n",
    "kmeans.fit(df_dropped[df_dropped.columns[3:5]]) # Compute k-means clustering.\n",
    "df_dropped['cluster_label'] = kmeans.fit_predict(df_dropped[df_dropped.columns[3:5]])\n",
    "centers = kmeans.cluster_centers_ # Coordinates of cluster centers.\n",
    "labels = kmeans.predict(df_dropped[df_dropped.columns[3:5]]) # Labels of each point\n",
    "\n",
    "\n",
    "Data = pd.DataFrame()\n",
    "#print(Data)\n",
    "#criar coluna X_dia\n",
    "\n",
    "df_dropped['cluster_label'] = df_dropped['cluster_label'].astype('category')\n",
    "v = df_dropped.groupby(['Date', 'cluster_label']).size().unstack(fill_value=0)\n",
    "#binary_z = (z > 0).astype(int) #changing to binary dataset\n",
    "#v = binary_z\n",
    "\n",
    "print(v.info)"
   ],
   "metadata": {
    "collapsed": false,
    "ExecuteTime": {
     "end_time": "2023-08-04T12:51:55.925901301Z",
     "start_time": "2023-08-04T12:51:53.513976829Z"
    }
   }
  },
  {
   "cell_type": "code",
   "execution_count": 10,
   "outputs": [
    {
     "data": {
      "text/plain": "cluster_label\n0    17886\n1     7350\n2       18\n3       25\ndtype: int64"
     },
     "execution_count": 10,
     "metadata": {},
     "output_type": "execute_result"
    }
   ],
   "source": [
    "v.sum(axis=0)"
   ],
   "metadata": {
    "collapsed": false,
    "ExecuteTime": {
     "end_time": "2023-08-04T12:53:32.715262247Z",
     "start_time": "2023-08-04T12:53:32.701624121Z"
    }
   }
  },
  {
   "cell_type": "code",
   "execution_count": null,
   "outputs": [],
   "source": [],
   "metadata": {
    "collapsed": false
   }
  }
 ],
 "metadata": {
  "kernelspec": {
   "display_name": "Python 3",
   "language": "python",
   "name": "python3"
  },
  "language_info": {
   "codemirror_mode": {
    "name": "ipython",
    "version": 2
   },
   "file_extension": ".py",
   "mimetype": "text/x-python",
   "name": "python",
   "nbconvert_exporter": "python",
   "pygments_lexer": "ipython2",
   "version": "2.7.6"
  }
 },
 "nbformat": 4,
 "nbformat_minor": 0
}
