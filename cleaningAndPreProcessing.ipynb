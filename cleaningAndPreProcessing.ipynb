{
 "cells": [
  {
   "cell_type": "markdown",
   "source": [
    "# **Dicionário**\n",
    "\n",
    "id_ocorrencia - identificação única da ocorrência\n",
    "\n",
    "cidade - A cidade onde aconteceu a ocorrência\n",
    "\n",
    "população - Pupulação da cidade\n",
    "\n",
    "horario - horario da ocorrencia com data e hora\n",
    "\n",
    "vtr - viatura empenhanha na ocorrencia\n",
    "\n",
    "mtcl - matricula do militar ou cpf do Bombeiro comunitario\n",
    "\n",
    "militar_bc - identificação se o individuo é Bombeiro Comunitário ou Bombeiro\n",
    "Militar\n",
    "\n",
    "bc_indenizado - Identifica se o Bombeiro Comunitario estava no serviço sendo\n",
    "pago(indenizado) ou não\n",
    "\n",
    "obm - Organização Bombeiro Militar que estava na ocorrência\n",
    "\n",
    "coordenada_obm - Coordenada da organização Bombeiro Militar\n",
    "\n",
    "coordenada_ocorrencia - Coordenada da Ocorrência\n",
    "\n",
    "lat_ocorrencia - Latitude ocorrência\n",
    "\n",
    "lon_ocorrencia - Longitude Ocorrência\n",
    "\n",
    "tipo - Tipo da ocorrência, pode ser Atendimento pré-hospitalar - APH, incendio, acidente e outros.\n",
    "\n",
    "subtipo - especifica o tipo, num APH, pode especificar desmaio, nem sempre é preenchido.\n",
    "\n",
    "tempo_resposta - Tempo do acionamento até a chegada ao local da ocorrêcia, pode ser um dado que estaja bem falho, pois acontece do bombeiro esquecer de clicar no botão\n",
    "\n",
    "tempo_total_empenho - tempo total da saída da obm até a chegada a obm novamente.\n",
    "firecast - indica se uma viatura utilizou o sistema \"firecast\" para dar J-9, J-10, J-11 e J-12 nos deslocamentos\n",
    "\n",
    "origem_samu - Se foi um repasse da ocorrência que era do samu\n",
    "\n",
    "vitima - geração no sistema, talvez de pra gerar o número de vítimas, nome, idade, alguns sinais vitais."
   ],
   "metadata": {
    "collapsed": false
   }
  },
  {
   "cell_type": "code",
   "execution_count": 2,
   "outputs": [
    {
     "name": "stderr",
     "output_type": "stream",
     "text": [
      "/tmp/ipykernel_344954/3334746939.py:6: DtypeWarning: Columns (20) have mixed types. Specify dtype option on import or set low_memory=False.\n",
      "  df = pd.read_csv('Data/dataset_ocorrencias.csv', sep=';', thousands=',')\n"
     ]
    },
    {
     "name": "stdout",
     "output_type": "stream",
     "text": [
      "Dataset saved to: Data/datasets/dataset_2023-07-16.csv\n"
     ]
    }
   ],
   "source": [
    "from sklearn.impute import KNNImputer\n",
    "import pandas as pd\n",
    "import os\n",
    "from datetime import date\n",
    "\n",
    "df = pd.read_csv('Data/dataset_ocorrencias.csv', sep=';', thousands=',')\n",
    "\n",
    "X = df.loc[:, ['id_ocorrencia', 'cidade', 'horario', 'lat_ocorrencia', 'lon_ocorrencia', 'tipo']]\n",
    "X = X.loc[X['cidade'] == 'Florianópolis']\n",
    "X = X.loc[X['tipo'] == 'ATENDIMENTO PRÉ-HOSPITALAR']\n",
    "X = X.loc[X[\"lon_ocorrencia\"] >= -48.6, :]\n",
    "\n",
    "# Create a copy of the DataFrame with only the columns of interest\n",
    "impute_df = X[['lat_ocorrencia', 'lon_ocorrencia']].copy()\n",
    "\n",
    "# Initialize the KNNImputer\n",
    "imputer = KNNImputer(n_neighbors=5)  # Choose the appropriate number of neighbors\n",
    "\n",
    "# Perform KNN imputation\n",
    "imputed_values = imputer.fit_transform(impute_df)\n",
    "\n",
    "# Replace the columns with the imputed values\n",
    "X['lat_ocorrencia'] = imputed_values[:, 0]\n",
    "X['lon_ocorrencia'] = imputed_values[:, 1]\n",
    "\n",
    "# Drop duplicates since id_ocorrencia is unique\n",
    "X = X.drop_duplicates(subset=\"id_ocorrencia\", keep='first')\n",
    "X[\"Date\"] = pd.to_datetime(X[\"horario\"], infer_datetime_format=True).dt.floor('1D')\n",
    "\n",
    "# Filter data for a specific date if needed\n",
    "# X = X.loc[X['Date'] >= '2019-07-01']\n",
    "\n",
    "# Save DataFrame to CSV with the current date in the filename\n",
    "output_directory = \"Data/datasets\"\n",
    "os.makedirs(output_directory, exist_ok=True)\n",
    "current_date = date.today().strftime(\"%Y-%m-%d\")\n",
    "output_filename = f\"dataset_{current_date}.csv\"\n",
    "output_path = os.path.join(output_directory, output_filename)\n",
    "X.to_csv(output_path, index=False)\n",
    "\n",
    "print(f\"Dataset saved to: {output_path}\")"
   ],
   "metadata": {
    "collapsed": false,
    "ExecuteTime": {
     "end_time": "2023-07-16T20:58:08.392492029Z",
     "start_time": "2023-07-16T20:58:03.668327828Z"
    }
   }
  },
  {
   "cell_type": "code",
   "execution_count": null,
   "outputs": [],
   "source": [],
   "metadata": {
    "collapsed": false
   }
  }
 ],
 "metadata": {
  "kernelspec": {
   "display_name": "Python 3",
   "language": "python",
   "name": "python3"
  },
  "language_info": {
   "codemirror_mode": {
    "name": "ipython",
    "version": 2
   },
   "file_extension": ".py",
   "mimetype": "text/x-python",
   "name": "python",
   "nbconvert_exporter": "python",
   "pygments_lexer": "ipython2",
   "version": "2.7.6"
  }
 },
 "nbformat": 4,
 "nbformat_minor": 0
}
