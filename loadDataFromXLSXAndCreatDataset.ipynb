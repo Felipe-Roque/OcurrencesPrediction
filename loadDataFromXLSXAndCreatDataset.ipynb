{
 "cells": [
  {
   "cell_type": "code",
   "execution_count": 3,
   "id": "initial_id",
   "metadata": {
    "collapsed": true,
    "ExecuteTime": {
     "end_time": "2023-08-04T13:07:26.745498868Z",
     "start_time": "2023-08-04T13:05:43.091223880Z"
    }
   },
   "outputs": [],
   "source": [
    "from sklearn.impute import KNNImputer\n",
    "import pandas as pd\n",
    "import os\n",
    "from datetime import date\n",
    "\n",
    "x = pd.read_excel('Data/datasetFloripa.xlsx')"
   ]
  },
  {
   "cell_type": "code",
   "execution_count": 34,
   "outputs": [
    {
     "data": {
      "text/plain": "       NrOcorrência         Cidade  População                 Data  \\\n0        10085306.0  Florianópolis     516524  2018-01-01 00:00:00   \n1        10085307.0  Florianópolis     516524  2018-01-01 00:00:00   \n2        10085308.0  Florianópolis     516524  2018-01-01 00:00:00   \n3        10085311.0  Florianópolis     516524  2018-01-01 00:00:00   \n4        10085313.0  Florianópolis     516524  2018-01-01 00:00:00   \n...             ...            ...        ...                  ...   \n64970   130319412.0  Florianópolis     516524  2023-07-30 00:00:00   \n64971   130319424.0  Florianópolis     516524  2023-07-30 00:00:00   \n64972   130319461.0  Florianópolis     516524  2023-07-30 00:00:00   \n64973   130319468.0  Florianópolis     516524  2023-07-30 00:00:00   \n64974   130319514.0  Florianópolis     516524  2023-07-31 00:00:00   \n\n            Cidade.1       CoordenadaOcorrência  \\\n0      Florianópolis  [-48.5835667,-27.6037201]   \n1      Florianópolis  [-48.4997193,-27.4388923]   \n2      Florianópolis  [-48.4997041,-27.4389142]   \n3      Florianópolis  [-48.4309475,-27.5734384]   \n4      Florianópolis  [-48.5020001,-27.4465559]   \n...              ...                        ...   \n64970  Florianópolis   [-48.4002807,-27.456841]   \n64971  Florianópolis  [-48.6007076,-27.5957561]   \n64972  Florianópolis  [-48.5046855,-27.6788322]   \n64973  Florianópolis   [-48.5521704,-27.598435]   \n64974  Florianópolis   [-48.405436,-27.4525746]   \n\n                               CoordenadaOBM SubtipoOcorrência  \\\n0                                          -    COLISÃO/CHOQUE   \n1                                          -             QUEDA   \n2                                          -                 -   \n3                                          -                 -   \n4                                          -    COLISÃO/CHOQUE   \n...                                      ...               ...   \n64970  [-48.4566611974118,-27.4525590451538]                 -   \n64971  [-48.5772426436301,-27.5900781786783]                 -   \n64972  [-48.5046556273528,-27.6696681529401]                 -   \n64973  [-48.5772426436301,-27.5900781786783]                 -   \n64974  [-48.4566611974118,-27.4525590451538]                 -   \n\n           TipoOcorrênciaAbertura            FeriadoDescrição  ...  \\\n0      ATENDIMENTO PRÉ-HOSPITALAR  Confraternização Universal  ...   \n1      ATENDIMENTO PRÉ-HOSPITALAR  Confraternização Universal  ...   \n2      ATENDIMENTO PRÉ-HOSPITALAR  Confraternização Universal  ...   \n3      ATENDIMENTO PRÉ-HOSPITALAR  Confraternização Universal  ...   \n4            ACIDENTE DE TRÂNSITO  Confraternização Universal  ...   \n...                           ...                         ...  ...   \n64970  ATENDIMENTO PRÉ-HOSPITALAR                           -  ...   \n64971  ATENDIMENTO PRÉ-HOSPITALAR                           -  ...   \n64972  ATENDIMENTO PRÉ-HOSPITALAR                           -  ...   \n64973  ATENDIMENTO PRÉ-HOSPITALAR                           -  ...   \n64974  ATENDIMENTO PRÉ-HOSPITALAR                           -  ...   \n\n                        HorárioJ9  TipoOcorrênciaEncerramento  \\\n0      2018-01-01 01:11:52.524000  ATENDIMENTO PRÉ-HOSPITALAR   \n1      2018-01-01 01:57:30.883000  ATENDIMENTO PRÉ-HOSPITALAR   \n2                               -     OCORRÊNCIA NÃO ATENDIDA   \n3      2018-01-01 02:38:35.197000  ATENDIMENTO PRÉ-HOSPITALAR   \n4      2018-01-01 05:01:24.057000  ATENDIMENTO PRÉ-HOSPITALAR   \n...                           ...                         ...   \n64970  2023-07-30 20:28:07.303000  ATENDIMENTO PRÉ-HOSPITALAR   \n64971  2023-07-30 20:49:17.706000  ATENDIMENTO PRÉ-HOSPITALAR   \n64972  2023-07-30 21:54:45.035000     OCORRÊNCIA NÃO ATENDIDA   \n64973  2023-07-30 22:20:51.180000  ATENDIMENTO PRÉ-HOSPITALAR   \n64974  2023-07-31 04:02:05.942000  ATENDIMENTO PRÉ-HOSPITALAR   \n\n      TempoTotalOcorrência TipoOcorrênciaEncerramento.1 ClassificaçãoChamada  \\\n0                        -   ATENDIMENTO PRÉ-HOSPITALAR                    -   \n1          01:38:42.929000   ATENDIMENTO PRÉ-HOSPITALAR                    -   \n2          00:03:18.237000      OCORRÊNCIA NÃO ATENDIDA                    -   \n3          01:25:10.964000   ATENDIMENTO PRÉ-HOSPITALAR                    -   \n4          00:50:05.678000   ATENDIMENTO PRÉ-HOSPITALAR                    -   \n...                    ...                          ...                  ...   \n64970                    -   ATENDIMENTO PRÉ-HOSPITALAR                    -   \n64971      01:09:43.896000   ATENDIMENTO PRÉ-HOSPITALAR                    -   \n64972      00:28:57.666000      OCORRÊNCIA NÃO ATENDIDA                    -   \n64973                    -   ATENDIMENTO PRÉ-HOSPITALAR                    -   \n64974      00:45:50.942000   ATENDIMENTO PRÉ-HOSPITALAR                    -   \n\n      CidadeOBMOperacional                                     OBM  \\\n0            Florianópolis                                       -   \n1            Florianópolis                                       -   \n2            Florianópolis                                       -   \n3            Florianópolis                                       -   \n4            Florianópolis                                       -   \n...                    ...                                     ...   \n64970        Florianópolis    1º BBM - 2º/2ª/1º BBM - CANASVIEIRAS   \n64971        Florianópolis        1º BBM - 1º/1ª/1º BBM - ESTREITO   \n64972        Florianópolis  1º BBM - 1º/1º/2ª/1º BBM - RIO TAVARES   \n64973        Florianópolis        1º BBM - 1º/1ª/1º BBM - ESTREITO   \n64974        Florianópolis    1º BBM - 2º/2ª/1º BBM - CANASVIEIRAS   \n\n                         Bairro lat_ocorrencia lon_ocorrencia  \n0                     COQUEIROS     -48.583567     -27.603720  \n1          JURERÊ INTERNACIONAL     -48.499719     -27.438892  \n2                      ESTREITO     -48.499704     -27.438914  \n3                BARRA DA LAGOA     -48.430948     -27.573438  \n4          JURERÊ INTERNACIONAL     -48.502000     -27.446556  \n...                         ...            ...            ...  \n64970                  INGLESES     -48.400281     -27.456841  \n64971                 CAPOEIRAS     -48.600708     -27.595756  \n64972                  CAMPECHE     -48.504686     -27.678832  \n64973                    CENTRO     -48.552170     -27.598435  \n64974  INGLESES DO RIO VERMELHO     -48.405436     -27.452575  \n\n[64975 rows x 26 columns]",
      "text/html": "<div>\n<style scoped>\n    .dataframe tbody tr th:only-of-type {\n        vertical-align: middle;\n    }\n\n    .dataframe tbody tr th {\n        vertical-align: top;\n    }\n\n    .dataframe thead th {\n        text-align: right;\n    }\n</style>\n<table border=\"1\" class=\"dataframe\">\n  <thead>\n    <tr style=\"text-align: right;\">\n      <th></th>\n      <th>NrOcorrência</th>\n      <th>Cidade</th>\n      <th>População</th>\n      <th>Data</th>\n      <th>Cidade.1</th>\n      <th>CoordenadaOcorrência</th>\n      <th>CoordenadaOBM</th>\n      <th>SubtipoOcorrência</th>\n      <th>TipoOcorrênciaAbertura</th>\n      <th>FeriadoDescrição</th>\n      <th>...</th>\n      <th>HorárioJ9</th>\n      <th>TipoOcorrênciaEncerramento</th>\n      <th>TempoTotalOcorrência</th>\n      <th>TipoOcorrênciaEncerramento.1</th>\n      <th>ClassificaçãoChamada</th>\n      <th>CidadeOBMOperacional</th>\n      <th>OBM</th>\n      <th>Bairro</th>\n      <th>lat_ocorrencia</th>\n      <th>lon_ocorrencia</th>\n    </tr>\n  </thead>\n  <tbody>\n    <tr>\n      <th>0</th>\n      <td>10085306.0</td>\n      <td>Florianópolis</td>\n      <td>516524</td>\n      <td>2018-01-01 00:00:00</td>\n      <td>Florianópolis</td>\n      <td>[-48.5835667,-27.6037201]</td>\n      <td>-</td>\n      <td>COLISÃO/CHOQUE</td>\n      <td>ATENDIMENTO PRÉ-HOSPITALAR</td>\n      <td>Confraternização Universal</td>\n      <td>...</td>\n      <td>2018-01-01 01:11:52.524000</td>\n      <td>ATENDIMENTO PRÉ-HOSPITALAR</td>\n      <td>-</td>\n      <td>ATENDIMENTO PRÉ-HOSPITALAR</td>\n      <td>-</td>\n      <td>Florianópolis</td>\n      <td>-</td>\n      <td>COQUEIROS</td>\n      <td>-48.583567</td>\n      <td>-27.603720</td>\n    </tr>\n    <tr>\n      <th>1</th>\n      <td>10085307.0</td>\n      <td>Florianópolis</td>\n      <td>516524</td>\n      <td>2018-01-01 00:00:00</td>\n      <td>Florianópolis</td>\n      <td>[-48.4997193,-27.4388923]</td>\n      <td>-</td>\n      <td>QUEDA</td>\n      <td>ATENDIMENTO PRÉ-HOSPITALAR</td>\n      <td>Confraternização Universal</td>\n      <td>...</td>\n      <td>2018-01-01 01:57:30.883000</td>\n      <td>ATENDIMENTO PRÉ-HOSPITALAR</td>\n      <td>01:38:42.929000</td>\n      <td>ATENDIMENTO PRÉ-HOSPITALAR</td>\n      <td>-</td>\n      <td>Florianópolis</td>\n      <td>-</td>\n      <td>JURERÊ INTERNACIONAL</td>\n      <td>-48.499719</td>\n      <td>-27.438892</td>\n    </tr>\n    <tr>\n      <th>2</th>\n      <td>10085308.0</td>\n      <td>Florianópolis</td>\n      <td>516524</td>\n      <td>2018-01-01 00:00:00</td>\n      <td>Florianópolis</td>\n      <td>[-48.4997041,-27.4389142]</td>\n      <td>-</td>\n      <td>-</td>\n      <td>ATENDIMENTO PRÉ-HOSPITALAR</td>\n      <td>Confraternização Universal</td>\n      <td>...</td>\n      <td>-</td>\n      <td>OCORRÊNCIA NÃO ATENDIDA</td>\n      <td>00:03:18.237000</td>\n      <td>OCORRÊNCIA NÃO ATENDIDA</td>\n      <td>-</td>\n      <td>Florianópolis</td>\n      <td>-</td>\n      <td>ESTREITO</td>\n      <td>-48.499704</td>\n      <td>-27.438914</td>\n    </tr>\n    <tr>\n      <th>3</th>\n      <td>10085311.0</td>\n      <td>Florianópolis</td>\n      <td>516524</td>\n      <td>2018-01-01 00:00:00</td>\n      <td>Florianópolis</td>\n      <td>[-48.4309475,-27.5734384]</td>\n      <td>-</td>\n      <td>-</td>\n      <td>ATENDIMENTO PRÉ-HOSPITALAR</td>\n      <td>Confraternização Universal</td>\n      <td>...</td>\n      <td>2018-01-01 02:38:35.197000</td>\n      <td>ATENDIMENTO PRÉ-HOSPITALAR</td>\n      <td>01:25:10.964000</td>\n      <td>ATENDIMENTO PRÉ-HOSPITALAR</td>\n      <td>-</td>\n      <td>Florianópolis</td>\n      <td>-</td>\n      <td>BARRA DA LAGOA</td>\n      <td>-48.430948</td>\n      <td>-27.573438</td>\n    </tr>\n    <tr>\n      <th>4</th>\n      <td>10085313.0</td>\n      <td>Florianópolis</td>\n      <td>516524</td>\n      <td>2018-01-01 00:00:00</td>\n      <td>Florianópolis</td>\n      <td>[-48.5020001,-27.4465559]</td>\n      <td>-</td>\n      <td>COLISÃO/CHOQUE</td>\n      <td>ACIDENTE DE TRÂNSITO</td>\n      <td>Confraternização Universal</td>\n      <td>...</td>\n      <td>2018-01-01 05:01:24.057000</td>\n      <td>ATENDIMENTO PRÉ-HOSPITALAR</td>\n      <td>00:50:05.678000</td>\n      <td>ATENDIMENTO PRÉ-HOSPITALAR</td>\n      <td>-</td>\n      <td>Florianópolis</td>\n      <td>-</td>\n      <td>JURERÊ INTERNACIONAL</td>\n      <td>-48.502000</td>\n      <td>-27.446556</td>\n    </tr>\n    <tr>\n      <th>...</th>\n      <td>...</td>\n      <td>...</td>\n      <td>...</td>\n      <td>...</td>\n      <td>...</td>\n      <td>...</td>\n      <td>...</td>\n      <td>...</td>\n      <td>...</td>\n      <td>...</td>\n      <td>...</td>\n      <td>...</td>\n      <td>...</td>\n      <td>...</td>\n      <td>...</td>\n      <td>...</td>\n      <td>...</td>\n      <td>...</td>\n      <td>...</td>\n      <td>...</td>\n      <td>...</td>\n    </tr>\n    <tr>\n      <th>64970</th>\n      <td>130319412.0</td>\n      <td>Florianópolis</td>\n      <td>516524</td>\n      <td>2023-07-30 00:00:00</td>\n      <td>Florianópolis</td>\n      <td>[-48.4002807,-27.456841]</td>\n      <td>[-48.4566611974118,-27.4525590451538]</td>\n      <td>-</td>\n      <td>ATENDIMENTO PRÉ-HOSPITALAR</td>\n      <td>-</td>\n      <td>...</td>\n      <td>2023-07-30 20:28:07.303000</td>\n      <td>ATENDIMENTO PRÉ-HOSPITALAR</td>\n      <td>-</td>\n      <td>ATENDIMENTO PRÉ-HOSPITALAR</td>\n      <td>-</td>\n      <td>Florianópolis</td>\n      <td>1º BBM - 2º/2ª/1º BBM - CANASVIEIRAS</td>\n      <td>INGLESES</td>\n      <td>-48.400281</td>\n      <td>-27.456841</td>\n    </tr>\n    <tr>\n      <th>64971</th>\n      <td>130319424.0</td>\n      <td>Florianópolis</td>\n      <td>516524</td>\n      <td>2023-07-30 00:00:00</td>\n      <td>Florianópolis</td>\n      <td>[-48.6007076,-27.5957561]</td>\n      <td>[-48.5772426436301,-27.5900781786783]</td>\n      <td>-</td>\n      <td>ATENDIMENTO PRÉ-HOSPITALAR</td>\n      <td>-</td>\n      <td>...</td>\n      <td>2023-07-30 20:49:17.706000</td>\n      <td>ATENDIMENTO PRÉ-HOSPITALAR</td>\n      <td>01:09:43.896000</td>\n      <td>ATENDIMENTO PRÉ-HOSPITALAR</td>\n      <td>-</td>\n      <td>Florianópolis</td>\n      <td>1º BBM - 1º/1ª/1º BBM - ESTREITO</td>\n      <td>CAPOEIRAS</td>\n      <td>-48.600708</td>\n      <td>-27.595756</td>\n    </tr>\n    <tr>\n      <th>64972</th>\n      <td>130319461.0</td>\n      <td>Florianópolis</td>\n      <td>516524</td>\n      <td>2023-07-30 00:00:00</td>\n      <td>Florianópolis</td>\n      <td>[-48.5046855,-27.6788322]</td>\n      <td>[-48.5046556273528,-27.6696681529401]</td>\n      <td>-</td>\n      <td>ATENDIMENTO PRÉ-HOSPITALAR</td>\n      <td>-</td>\n      <td>...</td>\n      <td>2023-07-30 21:54:45.035000</td>\n      <td>OCORRÊNCIA NÃO ATENDIDA</td>\n      <td>00:28:57.666000</td>\n      <td>OCORRÊNCIA NÃO ATENDIDA</td>\n      <td>-</td>\n      <td>Florianópolis</td>\n      <td>1º BBM - 1º/1º/2ª/1º BBM - RIO TAVARES</td>\n      <td>CAMPECHE</td>\n      <td>-48.504686</td>\n      <td>-27.678832</td>\n    </tr>\n    <tr>\n      <th>64973</th>\n      <td>130319468.0</td>\n      <td>Florianópolis</td>\n      <td>516524</td>\n      <td>2023-07-30 00:00:00</td>\n      <td>Florianópolis</td>\n      <td>[-48.5521704,-27.598435]</td>\n      <td>[-48.5772426436301,-27.5900781786783]</td>\n      <td>-</td>\n      <td>ATENDIMENTO PRÉ-HOSPITALAR</td>\n      <td>-</td>\n      <td>...</td>\n      <td>2023-07-30 22:20:51.180000</td>\n      <td>ATENDIMENTO PRÉ-HOSPITALAR</td>\n      <td>-</td>\n      <td>ATENDIMENTO PRÉ-HOSPITALAR</td>\n      <td>-</td>\n      <td>Florianópolis</td>\n      <td>1º BBM - 1º/1ª/1º BBM - ESTREITO</td>\n      <td>CENTRO</td>\n      <td>-48.552170</td>\n      <td>-27.598435</td>\n    </tr>\n    <tr>\n      <th>64974</th>\n      <td>130319514.0</td>\n      <td>Florianópolis</td>\n      <td>516524</td>\n      <td>2023-07-31 00:00:00</td>\n      <td>Florianópolis</td>\n      <td>[-48.405436,-27.4525746]</td>\n      <td>[-48.4566611974118,-27.4525590451538]</td>\n      <td>-</td>\n      <td>ATENDIMENTO PRÉ-HOSPITALAR</td>\n      <td>-</td>\n      <td>...</td>\n      <td>2023-07-31 04:02:05.942000</td>\n      <td>ATENDIMENTO PRÉ-HOSPITALAR</td>\n      <td>00:45:50.942000</td>\n      <td>ATENDIMENTO PRÉ-HOSPITALAR</td>\n      <td>-</td>\n      <td>Florianópolis</td>\n      <td>1º BBM - 2º/2ª/1º BBM - CANASVIEIRAS</td>\n      <td>INGLESES DO RIO VERMELHO</td>\n      <td>-48.405436</td>\n      <td>-27.452575</td>\n    </tr>\n  </tbody>\n</table>\n<p>64975 rows × 26 columns</p>\n</div>"
     },
     "execution_count": 34,
     "metadata": {},
     "output_type": "execute_result"
    }
   ],
   "source": [
    "df = x\n",
    "df"
   ],
   "metadata": {
    "collapsed": false,
    "ExecuteTime": {
     "end_time": "2023-08-03T13:51:58.248591565Z",
     "start_time": "2023-08-03T13:51:58.203579863Z"
    }
   },
   "id": "6f9ecadd16cb67b4"
  },
  {
   "cell_type": "code",
   "execution_count": 35,
   "outputs": [
    {
     "name": "stdout",
     "output_type": "stream",
     "text": [
      "Number of missing values in 'lat_ocorrencia': 18091\n",
      "Number of missing values in 'lon_ocorrencia': 18091\n"
     ]
    }
   ],
   "source": [
    "# Convert 'NrOcorrência' column to numeric values\n",
    "df['NrOcorrência'] = pd.to_numeric(x['NrOcorrência'], errors='coerce')\n",
    "\n",
    "# Drop rows where 'NrOcorrência' is NaN\n",
    "df.dropna(subset=['NrOcorrência'], inplace=True)\n",
    "\n",
    "missing_lat = df['lat_ocorrencia'].isna().sum()\n",
    "missing_lon = df['lon_ocorrencia'].isna().sum()\n",
    "\n",
    "print(\"Number of missing values in 'lat_ocorrencia':\", missing_lat)\n",
    "print(\"Number of missing values in 'lon_ocorrencia':\", missing_lon)"
   ],
   "metadata": {
    "collapsed": false,
    "ExecuteTime": {
     "end_time": "2023-08-03T13:52:02.615551239Z",
     "start_time": "2023-08-03T13:52:02.600359107Z"
    }
   },
   "id": "8155e32444d99242"
  },
  {
   "cell_type": "code",
   "execution_count": 36,
   "outputs": [
    {
     "name": "stderr",
     "output_type": "stream",
     "text": [
      "/tmp/ipykernel_21997/2663795506.py:7: FutureWarning: The default value of regex will change from True to False in a future version. In addition, single character regular expressions will *not* be treated as literal strings when regex=True.\n",
      "  df['lat_ocorrencia'] = df['lat_ocorrencia'].str.replace('[', '')\n",
      "/tmp/ipykernel_21997/2663795506.py:8: FutureWarning: The default value of regex will change from True to False in a future version. In addition, single character regular expressions will *not* be treated as literal strings when regex=True.\n",
      "  df['lon_ocorrencia'] = df['lon_ocorrencia'].str.replace(']', '')\n"
     ]
    }
   ],
   "source": [
    "import numpy as np\n",
    "\n",
    "# Separate 'CoordenadaOcorrência' into 'lat_ocorrencia' and 'lon_ocorrencia'\n",
    "df[['lat_ocorrencia', 'lon_ocorrencia']] = df['CoordenadaOcorrência'].str.split(',', expand=True)\n",
    "\n",
    "# Remove square brackets from the values in the new columns\n",
    "df['lat_ocorrencia'] = df['lat_ocorrencia'].str.replace('[', '')\n",
    "df['lon_ocorrencia'] = df['lon_ocorrencia'].str.replace(']', '')\n",
    "\n",
    "# Remove leading and trailing spaces\n",
    "df['lat_ocorrencia'] = df['lat_ocorrencia'].str.strip()\n",
    "df['lon_ocorrencia'] = df['lon_ocorrencia'].str.strip()\n",
    "\n",
    "# Replace '-' with NaN in 'lat_ocorrencia' and 'lon_ocorrencia' columns\n",
    "df['lat_ocorrencia'] = df['lat_ocorrencia'].replace('-', np.nan)\n",
    "df['lon_ocorrencia'] = df['lon_ocorrencia'].replace('-', np.nan)\n",
    "\n",
    "# Convert the new columns to numeric values\n",
    "df['lat_ocorrencia'] = pd.to_numeric(df['lat_ocorrencia'])\n",
    "df['lon_ocorrencia'] = pd.to_numeric(df['lon_ocorrencia'])\n"
   ],
   "metadata": {
    "collapsed": false,
    "ExecuteTime": {
     "end_time": "2023-08-03T13:52:05.851212372Z",
     "start_time": "2023-08-03T13:52:05.744208342Z"
    }
   },
   "id": "1c890c8682cad74f"
  },
  {
   "cell_type": "code",
   "execution_count": 37,
   "outputs": [
    {
     "data": {
      "text/plain": "       NrOcorrência         Cidade  População                 Data  \\\n0        10085306.0  Florianópolis     516524  2018-01-01 00:00:00   \n1        10085307.0  Florianópolis     516524  2018-01-01 00:00:00   \n2        10085308.0  Florianópolis     516524  2018-01-01 00:00:00   \n3        10085311.0  Florianópolis     516524  2018-01-01 00:00:00   \n4        10085313.0  Florianópolis     516524  2018-01-01 00:00:00   \n...             ...            ...        ...                  ...   \n64970   130319412.0  Florianópolis     516524  2023-07-30 00:00:00   \n64971   130319424.0  Florianópolis     516524  2023-07-30 00:00:00   \n64972   130319461.0  Florianópolis     516524  2023-07-30 00:00:00   \n64973   130319468.0  Florianópolis     516524  2023-07-30 00:00:00   \n64974   130319514.0  Florianópolis     516524  2023-07-31 00:00:00   \n\n            Cidade.1       CoordenadaOcorrência  \\\n0      Florianópolis  [-48.5835667,-27.6037201]   \n1      Florianópolis  [-48.4997193,-27.4388923]   \n2      Florianópolis  [-48.4997041,-27.4389142]   \n3      Florianópolis  [-48.4309475,-27.5734384]   \n4      Florianópolis  [-48.5020001,-27.4465559]   \n...              ...                        ...   \n64970  Florianópolis   [-48.4002807,-27.456841]   \n64971  Florianópolis  [-48.6007076,-27.5957561]   \n64972  Florianópolis  [-48.5046855,-27.6788322]   \n64973  Florianópolis   [-48.5521704,-27.598435]   \n64974  Florianópolis   [-48.405436,-27.4525746]   \n\n                               CoordenadaOBM SubtipoOcorrência  \\\n0                                          -    COLISÃO/CHOQUE   \n1                                          -             QUEDA   \n2                                          -                 -   \n3                                          -                 -   \n4                                          -    COLISÃO/CHOQUE   \n...                                      ...               ...   \n64970  [-48.4566611974118,-27.4525590451538]                 -   \n64971  [-48.5772426436301,-27.5900781786783]                 -   \n64972  [-48.5046556273528,-27.6696681529401]                 -   \n64973  [-48.5772426436301,-27.5900781786783]                 -   \n64974  [-48.4566611974118,-27.4525590451538]                 -   \n\n           TipoOcorrênciaAbertura            FeriadoDescrição  ...  \\\n0      ATENDIMENTO PRÉ-HOSPITALAR  Confraternização Universal  ...   \n1      ATENDIMENTO PRÉ-HOSPITALAR  Confraternização Universal  ...   \n2      ATENDIMENTO PRÉ-HOSPITALAR  Confraternização Universal  ...   \n3      ATENDIMENTO PRÉ-HOSPITALAR  Confraternização Universal  ...   \n4            ACIDENTE DE TRÂNSITO  Confraternização Universal  ...   \n...                           ...                         ...  ...   \n64970  ATENDIMENTO PRÉ-HOSPITALAR                           -  ...   \n64971  ATENDIMENTO PRÉ-HOSPITALAR                           -  ...   \n64972  ATENDIMENTO PRÉ-HOSPITALAR                           -  ...   \n64973  ATENDIMENTO PRÉ-HOSPITALAR                           -  ...   \n64974  ATENDIMENTO PRÉ-HOSPITALAR                           -  ...   \n\n                        HorárioJ9  TipoOcorrênciaEncerramento  \\\n0      2018-01-01 01:11:52.524000  ATENDIMENTO PRÉ-HOSPITALAR   \n1      2018-01-01 01:57:30.883000  ATENDIMENTO PRÉ-HOSPITALAR   \n2                               -     OCORRÊNCIA NÃO ATENDIDA   \n3      2018-01-01 02:38:35.197000  ATENDIMENTO PRÉ-HOSPITALAR   \n4      2018-01-01 05:01:24.057000  ATENDIMENTO PRÉ-HOSPITALAR   \n...                           ...                         ...   \n64970  2023-07-30 20:28:07.303000  ATENDIMENTO PRÉ-HOSPITALAR   \n64971  2023-07-30 20:49:17.706000  ATENDIMENTO PRÉ-HOSPITALAR   \n64972  2023-07-30 21:54:45.035000     OCORRÊNCIA NÃO ATENDIDA   \n64973  2023-07-30 22:20:51.180000  ATENDIMENTO PRÉ-HOSPITALAR   \n64974  2023-07-31 04:02:05.942000  ATENDIMENTO PRÉ-HOSPITALAR   \n\n      TempoTotalOcorrência TipoOcorrênciaEncerramento.1 ClassificaçãoChamada  \\\n0                        -   ATENDIMENTO PRÉ-HOSPITALAR                    -   \n1          01:38:42.929000   ATENDIMENTO PRÉ-HOSPITALAR                    -   \n2          00:03:18.237000      OCORRÊNCIA NÃO ATENDIDA                    -   \n3          01:25:10.964000   ATENDIMENTO PRÉ-HOSPITALAR                    -   \n4          00:50:05.678000   ATENDIMENTO PRÉ-HOSPITALAR                    -   \n...                    ...                          ...                  ...   \n64970                    -   ATENDIMENTO PRÉ-HOSPITALAR                    -   \n64971      01:09:43.896000   ATENDIMENTO PRÉ-HOSPITALAR                    -   \n64972      00:28:57.666000      OCORRÊNCIA NÃO ATENDIDA                    -   \n64973                    -   ATENDIMENTO PRÉ-HOSPITALAR                    -   \n64974      00:45:50.942000   ATENDIMENTO PRÉ-HOSPITALAR                    -   \n\n      CidadeOBMOperacional                                     OBM  \\\n0            Florianópolis                                       -   \n1            Florianópolis                                       -   \n2            Florianópolis                                       -   \n3            Florianópolis                                       -   \n4            Florianópolis                                       -   \n...                    ...                                     ...   \n64970        Florianópolis    1º BBM - 2º/2ª/1º BBM - CANASVIEIRAS   \n64971        Florianópolis        1º BBM - 1º/1ª/1º BBM - ESTREITO   \n64972        Florianópolis  1º BBM - 1º/1º/2ª/1º BBM - RIO TAVARES   \n64973        Florianópolis        1º BBM - 1º/1ª/1º BBM - ESTREITO   \n64974        Florianópolis    1º BBM - 2º/2ª/1º BBM - CANASVIEIRAS   \n\n                         Bairro lat_ocorrencia lon_ocorrencia  \n0                     COQUEIROS     -48.583567     -27.603720  \n1          JURERÊ INTERNACIONAL     -48.499719     -27.438892  \n2                      ESTREITO     -48.499704     -27.438914  \n3                BARRA DA LAGOA     -48.430948     -27.573438  \n4          JURERÊ INTERNACIONAL     -48.502000     -27.446556  \n...                         ...            ...            ...  \n64970                  INGLESES     -48.400281     -27.456841  \n64971                 CAPOEIRAS     -48.600708     -27.595756  \n64972                  CAMPECHE     -48.504686     -27.678832  \n64973                    CENTRO     -48.552170     -27.598435  \n64974  INGLESES DO RIO VERMELHO     -48.405436     -27.452575  \n\n[64975 rows x 26 columns]",
      "text/html": "<div>\n<style scoped>\n    .dataframe tbody tr th:only-of-type {\n        vertical-align: middle;\n    }\n\n    .dataframe tbody tr th {\n        vertical-align: top;\n    }\n\n    .dataframe thead th {\n        text-align: right;\n    }\n</style>\n<table border=\"1\" class=\"dataframe\">\n  <thead>\n    <tr style=\"text-align: right;\">\n      <th></th>\n      <th>NrOcorrência</th>\n      <th>Cidade</th>\n      <th>População</th>\n      <th>Data</th>\n      <th>Cidade.1</th>\n      <th>CoordenadaOcorrência</th>\n      <th>CoordenadaOBM</th>\n      <th>SubtipoOcorrência</th>\n      <th>TipoOcorrênciaAbertura</th>\n      <th>FeriadoDescrição</th>\n      <th>...</th>\n      <th>HorárioJ9</th>\n      <th>TipoOcorrênciaEncerramento</th>\n      <th>TempoTotalOcorrência</th>\n      <th>TipoOcorrênciaEncerramento.1</th>\n      <th>ClassificaçãoChamada</th>\n      <th>CidadeOBMOperacional</th>\n      <th>OBM</th>\n      <th>Bairro</th>\n      <th>lat_ocorrencia</th>\n      <th>lon_ocorrencia</th>\n    </tr>\n  </thead>\n  <tbody>\n    <tr>\n      <th>0</th>\n      <td>10085306.0</td>\n      <td>Florianópolis</td>\n      <td>516524</td>\n      <td>2018-01-01 00:00:00</td>\n      <td>Florianópolis</td>\n      <td>[-48.5835667,-27.6037201]</td>\n      <td>-</td>\n      <td>COLISÃO/CHOQUE</td>\n      <td>ATENDIMENTO PRÉ-HOSPITALAR</td>\n      <td>Confraternização Universal</td>\n      <td>...</td>\n      <td>2018-01-01 01:11:52.524000</td>\n      <td>ATENDIMENTO PRÉ-HOSPITALAR</td>\n      <td>-</td>\n      <td>ATENDIMENTO PRÉ-HOSPITALAR</td>\n      <td>-</td>\n      <td>Florianópolis</td>\n      <td>-</td>\n      <td>COQUEIROS</td>\n      <td>-48.583567</td>\n      <td>-27.603720</td>\n    </tr>\n    <tr>\n      <th>1</th>\n      <td>10085307.0</td>\n      <td>Florianópolis</td>\n      <td>516524</td>\n      <td>2018-01-01 00:00:00</td>\n      <td>Florianópolis</td>\n      <td>[-48.4997193,-27.4388923]</td>\n      <td>-</td>\n      <td>QUEDA</td>\n      <td>ATENDIMENTO PRÉ-HOSPITALAR</td>\n      <td>Confraternização Universal</td>\n      <td>...</td>\n      <td>2018-01-01 01:57:30.883000</td>\n      <td>ATENDIMENTO PRÉ-HOSPITALAR</td>\n      <td>01:38:42.929000</td>\n      <td>ATENDIMENTO PRÉ-HOSPITALAR</td>\n      <td>-</td>\n      <td>Florianópolis</td>\n      <td>-</td>\n      <td>JURERÊ INTERNACIONAL</td>\n      <td>-48.499719</td>\n      <td>-27.438892</td>\n    </tr>\n    <tr>\n      <th>2</th>\n      <td>10085308.0</td>\n      <td>Florianópolis</td>\n      <td>516524</td>\n      <td>2018-01-01 00:00:00</td>\n      <td>Florianópolis</td>\n      <td>[-48.4997041,-27.4389142]</td>\n      <td>-</td>\n      <td>-</td>\n      <td>ATENDIMENTO PRÉ-HOSPITALAR</td>\n      <td>Confraternização Universal</td>\n      <td>...</td>\n      <td>-</td>\n      <td>OCORRÊNCIA NÃO ATENDIDA</td>\n      <td>00:03:18.237000</td>\n      <td>OCORRÊNCIA NÃO ATENDIDA</td>\n      <td>-</td>\n      <td>Florianópolis</td>\n      <td>-</td>\n      <td>ESTREITO</td>\n      <td>-48.499704</td>\n      <td>-27.438914</td>\n    </tr>\n    <tr>\n      <th>3</th>\n      <td>10085311.0</td>\n      <td>Florianópolis</td>\n      <td>516524</td>\n      <td>2018-01-01 00:00:00</td>\n      <td>Florianópolis</td>\n      <td>[-48.4309475,-27.5734384]</td>\n      <td>-</td>\n      <td>-</td>\n      <td>ATENDIMENTO PRÉ-HOSPITALAR</td>\n      <td>Confraternização Universal</td>\n      <td>...</td>\n      <td>2018-01-01 02:38:35.197000</td>\n      <td>ATENDIMENTO PRÉ-HOSPITALAR</td>\n      <td>01:25:10.964000</td>\n      <td>ATENDIMENTO PRÉ-HOSPITALAR</td>\n      <td>-</td>\n      <td>Florianópolis</td>\n      <td>-</td>\n      <td>BARRA DA LAGOA</td>\n      <td>-48.430948</td>\n      <td>-27.573438</td>\n    </tr>\n    <tr>\n      <th>4</th>\n      <td>10085313.0</td>\n      <td>Florianópolis</td>\n      <td>516524</td>\n      <td>2018-01-01 00:00:00</td>\n      <td>Florianópolis</td>\n      <td>[-48.5020001,-27.4465559]</td>\n      <td>-</td>\n      <td>COLISÃO/CHOQUE</td>\n      <td>ACIDENTE DE TRÂNSITO</td>\n      <td>Confraternização Universal</td>\n      <td>...</td>\n      <td>2018-01-01 05:01:24.057000</td>\n      <td>ATENDIMENTO PRÉ-HOSPITALAR</td>\n      <td>00:50:05.678000</td>\n      <td>ATENDIMENTO PRÉ-HOSPITALAR</td>\n      <td>-</td>\n      <td>Florianópolis</td>\n      <td>-</td>\n      <td>JURERÊ INTERNACIONAL</td>\n      <td>-48.502000</td>\n      <td>-27.446556</td>\n    </tr>\n    <tr>\n      <th>...</th>\n      <td>...</td>\n      <td>...</td>\n      <td>...</td>\n      <td>...</td>\n      <td>...</td>\n      <td>...</td>\n      <td>...</td>\n      <td>...</td>\n      <td>...</td>\n      <td>...</td>\n      <td>...</td>\n      <td>...</td>\n      <td>...</td>\n      <td>...</td>\n      <td>...</td>\n      <td>...</td>\n      <td>...</td>\n      <td>...</td>\n      <td>...</td>\n      <td>...</td>\n      <td>...</td>\n    </tr>\n    <tr>\n      <th>64970</th>\n      <td>130319412.0</td>\n      <td>Florianópolis</td>\n      <td>516524</td>\n      <td>2023-07-30 00:00:00</td>\n      <td>Florianópolis</td>\n      <td>[-48.4002807,-27.456841]</td>\n      <td>[-48.4566611974118,-27.4525590451538]</td>\n      <td>-</td>\n      <td>ATENDIMENTO PRÉ-HOSPITALAR</td>\n      <td>-</td>\n      <td>...</td>\n      <td>2023-07-30 20:28:07.303000</td>\n      <td>ATENDIMENTO PRÉ-HOSPITALAR</td>\n      <td>-</td>\n      <td>ATENDIMENTO PRÉ-HOSPITALAR</td>\n      <td>-</td>\n      <td>Florianópolis</td>\n      <td>1º BBM - 2º/2ª/1º BBM - CANASVIEIRAS</td>\n      <td>INGLESES</td>\n      <td>-48.400281</td>\n      <td>-27.456841</td>\n    </tr>\n    <tr>\n      <th>64971</th>\n      <td>130319424.0</td>\n      <td>Florianópolis</td>\n      <td>516524</td>\n      <td>2023-07-30 00:00:00</td>\n      <td>Florianópolis</td>\n      <td>[-48.6007076,-27.5957561]</td>\n      <td>[-48.5772426436301,-27.5900781786783]</td>\n      <td>-</td>\n      <td>ATENDIMENTO PRÉ-HOSPITALAR</td>\n      <td>-</td>\n      <td>...</td>\n      <td>2023-07-30 20:49:17.706000</td>\n      <td>ATENDIMENTO PRÉ-HOSPITALAR</td>\n      <td>01:09:43.896000</td>\n      <td>ATENDIMENTO PRÉ-HOSPITALAR</td>\n      <td>-</td>\n      <td>Florianópolis</td>\n      <td>1º BBM - 1º/1ª/1º BBM - ESTREITO</td>\n      <td>CAPOEIRAS</td>\n      <td>-48.600708</td>\n      <td>-27.595756</td>\n    </tr>\n    <tr>\n      <th>64972</th>\n      <td>130319461.0</td>\n      <td>Florianópolis</td>\n      <td>516524</td>\n      <td>2023-07-30 00:00:00</td>\n      <td>Florianópolis</td>\n      <td>[-48.5046855,-27.6788322]</td>\n      <td>[-48.5046556273528,-27.6696681529401]</td>\n      <td>-</td>\n      <td>ATENDIMENTO PRÉ-HOSPITALAR</td>\n      <td>-</td>\n      <td>...</td>\n      <td>2023-07-30 21:54:45.035000</td>\n      <td>OCORRÊNCIA NÃO ATENDIDA</td>\n      <td>00:28:57.666000</td>\n      <td>OCORRÊNCIA NÃO ATENDIDA</td>\n      <td>-</td>\n      <td>Florianópolis</td>\n      <td>1º BBM - 1º/1º/2ª/1º BBM - RIO TAVARES</td>\n      <td>CAMPECHE</td>\n      <td>-48.504686</td>\n      <td>-27.678832</td>\n    </tr>\n    <tr>\n      <th>64973</th>\n      <td>130319468.0</td>\n      <td>Florianópolis</td>\n      <td>516524</td>\n      <td>2023-07-30 00:00:00</td>\n      <td>Florianópolis</td>\n      <td>[-48.5521704,-27.598435]</td>\n      <td>[-48.5772426436301,-27.5900781786783]</td>\n      <td>-</td>\n      <td>ATENDIMENTO PRÉ-HOSPITALAR</td>\n      <td>-</td>\n      <td>...</td>\n      <td>2023-07-30 22:20:51.180000</td>\n      <td>ATENDIMENTO PRÉ-HOSPITALAR</td>\n      <td>-</td>\n      <td>ATENDIMENTO PRÉ-HOSPITALAR</td>\n      <td>-</td>\n      <td>Florianópolis</td>\n      <td>1º BBM - 1º/1ª/1º BBM - ESTREITO</td>\n      <td>CENTRO</td>\n      <td>-48.552170</td>\n      <td>-27.598435</td>\n    </tr>\n    <tr>\n      <th>64974</th>\n      <td>130319514.0</td>\n      <td>Florianópolis</td>\n      <td>516524</td>\n      <td>2023-07-31 00:00:00</td>\n      <td>Florianópolis</td>\n      <td>[-48.405436,-27.4525746]</td>\n      <td>[-48.4566611974118,-27.4525590451538]</td>\n      <td>-</td>\n      <td>ATENDIMENTO PRÉ-HOSPITALAR</td>\n      <td>-</td>\n      <td>...</td>\n      <td>2023-07-31 04:02:05.942000</td>\n      <td>ATENDIMENTO PRÉ-HOSPITALAR</td>\n      <td>00:45:50.942000</td>\n      <td>ATENDIMENTO PRÉ-HOSPITALAR</td>\n      <td>-</td>\n      <td>Florianópolis</td>\n      <td>1º BBM - 2º/2ª/1º BBM - CANASVIEIRAS</td>\n      <td>INGLESES DO RIO VERMELHO</td>\n      <td>-48.405436</td>\n      <td>-27.452575</td>\n    </tr>\n  </tbody>\n</table>\n<p>64975 rows × 26 columns</p>\n</div>"
     },
     "execution_count": 37,
     "metadata": {},
     "output_type": "execute_result"
    }
   ],
   "source": [
    "df"
   ],
   "metadata": {
    "collapsed": false,
    "ExecuteTime": {
     "end_time": "2023-08-03T13:52:08.827531671Z",
     "start_time": "2023-08-03T13:52:08.778808535Z"
    }
   },
   "id": "42779d336696a51b"
  },
  {
   "cell_type": "code",
   "execution_count": 2,
   "outputs": [
    {
     "ename": "NameError",
     "evalue": "name 'x' is not defined",
     "output_type": "error",
     "traceback": [
      "\u001B[0;31m---------------------------------------------------------------------------\u001B[0m",
      "\u001B[0;31mNameError\u001B[0m                                 Traceback (most recent call last)",
      "Cell \u001B[0;32mIn[2], line 2\u001B[0m\n\u001B[1;32m      1\u001B[0m \u001B[38;5;66;03m# Group the DataFrame by 'Bairro' and count the occurrences of each 'NrOcorrência'\u001B[39;00m\n\u001B[0;32m----> 2\u001B[0m counts_per_bairro \u001B[38;5;241m=\u001B[39m \u001B[43mx\u001B[49m\u001B[38;5;241m.\u001B[39mgroupby(\u001B[38;5;124m'\u001B[39m\u001B[38;5;124mBairro\u001B[39m\u001B[38;5;124m'\u001B[39m)[\u001B[38;5;124m'\u001B[39m\u001B[38;5;124mNrOcorrência\u001B[39m\u001B[38;5;124m'\u001B[39m]\u001B[38;5;241m.\u001B[39mcount()\n\u001B[1;32m      4\u001B[0m \u001B[38;5;28mprint\u001B[39m(counts_per_bairro)\n",
      "\u001B[0;31mNameError\u001B[0m: name 'x' is not defined"
     ]
    }
   ],
   "source": [
    "# Group the DataFrame by 'Bairro' and count the occurrences of each 'NrOcorrência'\n",
    "counts_per_bairro = x.groupby('Bairro')['NrOcorrência'].count()\n",
    "\n",
    "print(counts_per_bairro)"
   ],
   "metadata": {
    "collapsed": false,
    "ExecuteTime": {
     "end_time": "2023-08-04T13:05:37.368993616Z",
     "start_time": "2023-08-04T13:05:37.358451006Z"
    }
   },
   "id": "69d570db1966e15f"
  },
  {
   "cell_type": "code",
   "execution_count": 39,
   "outputs": [
    {
     "name": "stdout",
     "output_type": "stream",
     "text": [
      "       NrOcorrência         Cidade  População                 Data  \\\n",
      "0        10085306.0  Florianópolis     516524  2018-01-01 00:00:00   \n",
      "1        10085307.0  Florianópolis     516524  2018-01-01 00:00:00   \n",
      "2        10085308.0  Florianópolis     516524  2018-01-01 00:00:00   \n",
      "3        10085311.0  Florianópolis     516524  2018-01-01 00:00:00   \n",
      "4        10085313.0  Florianópolis     516524  2018-01-01 00:00:00   \n",
      "...             ...            ...        ...                  ...   \n",
      "64970   130319412.0  Florianópolis     516524  2023-07-30 00:00:00   \n",
      "64971   130319424.0  Florianópolis     516524  2023-07-30 00:00:00   \n",
      "64972   130319461.0  Florianópolis     516524  2023-07-30 00:00:00   \n",
      "64973   130319468.0  Florianópolis     516524  2023-07-30 00:00:00   \n",
      "64974   130319514.0  Florianópolis     516524  2023-07-31 00:00:00   \n",
      "\n",
      "            Cidade.1       CoordenadaOcorrência  \\\n",
      "0      Florianópolis  [-48.5835667,-27.6037201]   \n",
      "1      Florianópolis  [-48.4997193,-27.4388923]   \n",
      "2      Florianópolis  [-48.4997041,-27.4389142]   \n",
      "3      Florianópolis  [-48.4309475,-27.5734384]   \n",
      "4      Florianópolis  [-48.5020001,-27.4465559]   \n",
      "...              ...                        ...   \n",
      "64970  Florianópolis   [-48.4002807,-27.456841]   \n",
      "64971  Florianópolis  [-48.6007076,-27.5957561]   \n",
      "64972  Florianópolis  [-48.5046855,-27.6788322]   \n",
      "64973  Florianópolis   [-48.5521704,-27.598435]   \n",
      "64974  Florianópolis   [-48.405436,-27.4525746]   \n",
      "\n",
      "                               CoordenadaOBM SubtipoOcorrência  \\\n",
      "0                                          -    COLISÃO/CHOQUE   \n",
      "1                                          -             QUEDA   \n",
      "2                                          -                 -   \n",
      "3                                          -                 -   \n",
      "4                                          -    COLISÃO/CHOQUE   \n",
      "...                                      ...               ...   \n",
      "64970  [-48.4566611974118,-27.4525590451538]                 -   \n",
      "64971  [-48.5772426436301,-27.5900781786783]                 -   \n",
      "64972  [-48.5046556273528,-27.6696681529401]                 -   \n",
      "64973  [-48.5772426436301,-27.5900781786783]                 -   \n",
      "64974  [-48.4566611974118,-27.4525590451538]                 -   \n",
      "\n",
      "           TipoOcorrênciaAbertura            FeriadoDescrição  ...  \\\n",
      "0      ATENDIMENTO PRÉ-HOSPITALAR  Confraternização Universal  ...   \n",
      "1      ATENDIMENTO PRÉ-HOSPITALAR  Confraternização Universal  ...   \n",
      "2      ATENDIMENTO PRÉ-HOSPITALAR  Confraternização Universal  ...   \n",
      "3      ATENDIMENTO PRÉ-HOSPITALAR  Confraternização Universal  ...   \n",
      "4            ACIDENTE DE TRÂNSITO  Confraternização Universal  ...   \n",
      "...                           ...                         ...  ...   \n",
      "64970  ATENDIMENTO PRÉ-HOSPITALAR                           -  ...   \n",
      "64971  ATENDIMENTO PRÉ-HOSPITALAR                           -  ...   \n",
      "64972  ATENDIMENTO PRÉ-HOSPITALAR                           -  ...   \n",
      "64973  ATENDIMENTO PRÉ-HOSPITALAR                           -  ...   \n",
      "64974  ATENDIMENTO PRÉ-HOSPITALAR                           -  ...   \n",
      "\n",
      "                        HorárioJ9  TipoOcorrênciaEncerramento  \\\n",
      "0      2018-01-01 01:11:52.524000  ATENDIMENTO PRÉ-HOSPITALAR   \n",
      "1      2018-01-01 01:57:30.883000  ATENDIMENTO PRÉ-HOSPITALAR   \n",
      "2                               -     OCORRÊNCIA NÃO ATENDIDA   \n",
      "3      2018-01-01 02:38:35.197000  ATENDIMENTO PRÉ-HOSPITALAR   \n",
      "4      2018-01-01 05:01:24.057000  ATENDIMENTO PRÉ-HOSPITALAR   \n",
      "...                           ...                         ...   \n",
      "64970  2023-07-30 20:28:07.303000  ATENDIMENTO PRÉ-HOSPITALAR   \n",
      "64971  2023-07-30 20:49:17.706000  ATENDIMENTO PRÉ-HOSPITALAR   \n",
      "64972  2023-07-30 21:54:45.035000     OCORRÊNCIA NÃO ATENDIDA   \n",
      "64973  2023-07-30 22:20:51.180000  ATENDIMENTO PRÉ-HOSPITALAR   \n",
      "64974  2023-07-31 04:02:05.942000  ATENDIMENTO PRÉ-HOSPITALAR   \n",
      "\n",
      "      TempoTotalOcorrência TipoOcorrênciaEncerramento.1 ClassificaçãoChamada  \\\n",
      "0                        -   ATENDIMENTO PRÉ-HOSPITALAR                    -   \n",
      "1          01:38:42.929000   ATENDIMENTO PRÉ-HOSPITALAR                    -   \n",
      "2          00:03:18.237000      OCORRÊNCIA NÃO ATENDIDA                    -   \n",
      "3          01:25:10.964000   ATENDIMENTO PRÉ-HOSPITALAR                    -   \n",
      "4          00:50:05.678000   ATENDIMENTO PRÉ-HOSPITALAR                    -   \n",
      "...                    ...                          ...                  ...   \n",
      "64970                    -   ATENDIMENTO PRÉ-HOSPITALAR                    -   \n",
      "64971      01:09:43.896000   ATENDIMENTO PRÉ-HOSPITALAR                    -   \n",
      "64972      00:28:57.666000      OCORRÊNCIA NÃO ATENDIDA                    -   \n",
      "64973                    -   ATENDIMENTO PRÉ-HOSPITALAR                    -   \n",
      "64974      00:45:50.942000   ATENDIMENTO PRÉ-HOSPITALAR                    -   \n",
      "\n",
      "      CidadeOBMOperacional                                     OBM  \\\n",
      "0            Florianópolis                                       -   \n",
      "1            Florianópolis                                       -   \n",
      "2            Florianópolis                                       -   \n",
      "3            Florianópolis                                       -   \n",
      "4            Florianópolis                                       -   \n",
      "...                    ...                                     ...   \n",
      "64970        Florianópolis    1º BBM - 2º/2ª/1º BBM - CANASVIEIRAS   \n",
      "64971        Florianópolis        1º BBM - 1º/1ª/1º BBM - ESTREITO   \n",
      "64972        Florianópolis  1º BBM - 1º/1º/2ª/1º BBM - RIO TAVARES   \n",
      "64973        Florianópolis        1º BBM - 1º/1ª/1º BBM - ESTREITO   \n",
      "64974        Florianópolis    1º BBM - 2º/2ª/1º BBM - CANASVIEIRAS   \n",
      "\n",
      "                         Bairro lat_ocorrencia lon_ocorrencia  \n",
      "0                     COQUEIROS     -48.583567     -27.603720  \n",
      "1          JURERÊ INTERNACIONAL     -48.499719     -27.438892  \n",
      "2                      ESTREITO     -48.499704     -27.438914  \n",
      "3                BARRA DA LAGOA     -48.430948     -27.573438  \n",
      "4          JURERÊ INTERNACIONAL     -48.502000     -27.446556  \n",
      "...                         ...            ...            ...  \n",
      "64970                  INGLESES     -48.400281     -27.456841  \n",
      "64971                 CAPOEIRAS     -48.600708     -27.595756  \n",
      "64972                  CAMPECHE     -48.504686     -27.678832  \n",
      "64973                    CENTRO     -48.552170     -27.598435  \n",
      "64974  INGLESES DO RIO VERMELHO     -48.405436     -27.452575  \n",
      "\n",
      "[64975 rows x 26 columns]\n"
     ]
    },
    {
     "name": "stderr",
     "output_type": "stream",
     "text": [
      "/tmp/ipykernel_21997/2652236503.py:14: UserWarning: Boolean Series key will be reindexed to match DataFrame index.\n",
      "  valid_indices = group[~missing_values].index\n",
      "/tmp/ipykernel_21997/2652236503.py:34: FutureWarning: Not prepending group keys to the result index of transform-like apply. In the future, the group keys will be included in the index, regardless of whether the applied function returns a like-indexed object.\n",
      "To preserve the previous behavior, use\n",
      "\n",
      "\t>>> .groupby(..., group_keys=False)\n",
      "\n",
      "To adopt the future behavior and silence this warning, use \n",
      "\n",
      "\t>>> .groupby(..., group_keys=True)\n",
      "  imputed_df = df.groupby('Bairro').apply(impute_random)\n"
     ]
    }
   ],
   "source": [
    "import pandas as pd\n",
    "import numpy as np\n",
    "\n",
    "# Step 1: Identify rows with NaN values in 'lon_ocorrencia' and 'lat_ocorrencia'\n",
    "missing_values = df['lon_ocorrencia'].isnull() | df['lat_ocorrencia'].isnull()\n",
    "\n",
    "# Step 2: Group the DataFrame by 'Bairro'\n",
    "grouped = df.groupby('Bairro')\n",
    "\n",
    "# Step 3 and 4: Impute random values based on the values in other rows of the same 'Bairro'\n",
    "def impute_random(group):\n",
    "    if group['lon_ocorrencia'].isnull().any() and group['lat_ocorrencia'].isnull().any():\n",
    "        # Get random row indices with non-null 'lon_ocorrencia' and 'lat_ocorrencia'\n",
    "        valid_indices = group[~missing_values].index\n",
    "\n",
    "        # Check if there are valid indices to select from\n",
    "        if valid_indices.empty:\n",
    "            return group\n",
    "\n",
    "        # Select a random row from the valid indices\n",
    "        random_index = np.random.choice(valid_indices)\n",
    "\n",
    "        # Get the 'lon_ocorrencia' and 'lat_ocorrencia' values from the random row\n",
    "        lon_imputed = df.at[random_index, 'lon_ocorrencia']\n",
    "        lat_imputed = df.at[random_index, 'lat_ocorrencia']\n",
    "\n",
    "        # Fill NaN values with the imputed values\n",
    "        group['lon_ocorrencia'].fillna(lon_imputed, inplace=True)\n",
    "        group['lat_ocorrencia'].fillna(lat_imputed, inplace=True)\n",
    "\n",
    "    return group\n",
    "\n",
    "# Apply the imputation function to each group and concatenate the results\n",
    "imputed_df = df.groupby('Bairro').apply(impute_random)\n",
    "\n",
    "# Print the updated DataFrame\n",
    "print(imputed_df)\n"
   ],
   "metadata": {
    "collapsed": false,
    "ExecuteTime": {
     "end_time": "2023-08-03T13:52:35.794076193Z",
     "start_time": "2023-08-03T13:52:35.561991077Z"
    }
   },
   "id": "bee9cf79a936e3f6"
  },
  {
   "cell_type": "code",
   "execution_count": 41,
   "outputs": [
    {
     "data": {
      "text/plain": "       NrOcorrência         Cidade  População                 Data  \\\n0        10085306.0  Florianópolis     516524  2018-01-01 00:00:00   \n1        10085307.0  Florianópolis     516524  2018-01-01 00:00:00   \n2        10085308.0  Florianópolis     516524  2018-01-01 00:00:00   \n3        10085311.0  Florianópolis     516524  2018-01-01 00:00:00   \n4        10085313.0  Florianópolis     516524  2018-01-01 00:00:00   \n...             ...            ...        ...                  ...   \n64970   130319412.0  Florianópolis     516524  2023-07-30 00:00:00   \n64971   130319424.0  Florianópolis     516524  2023-07-30 00:00:00   \n64972   130319461.0  Florianópolis     516524  2023-07-30 00:00:00   \n64973   130319468.0  Florianópolis     516524  2023-07-30 00:00:00   \n64974   130319514.0  Florianópolis     516524  2023-07-31 00:00:00   \n\n            Cidade.1       CoordenadaOcorrência  \\\n0      Florianópolis  [-48.5835667,-27.6037201]   \n1      Florianópolis  [-48.4997193,-27.4388923]   \n2      Florianópolis  [-48.4997041,-27.4389142]   \n3      Florianópolis  [-48.4309475,-27.5734384]   \n4      Florianópolis  [-48.5020001,-27.4465559]   \n...              ...                        ...   \n64970  Florianópolis   [-48.4002807,-27.456841]   \n64971  Florianópolis  [-48.6007076,-27.5957561]   \n64972  Florianópolis  [-48.5046855,-27.6788322]   \n64973  Florianópolis   [-48.5521704,-27.598435]   \n64974  Florianópolis   [-48.405436,-27.4525746]   \n\n                               CoordenadaOBM SubtipoOcorrência  \\\n0                                          -    COLISÃO/CHOQUE   \n1                                          -             QUEDA   \n2                                          -                 -   \n3                                          -                 -   \n4                                          -    COLISÃO/CHOQUE   \n...                                      ...               ...   \n64970  [-48.4566611974118,-27.4525590451538]                 -   \n64971  [-48.5772426436301,-27.5900781786783]                 -   \n64972  [-48.5046556273528,-27.6696681529401]                 -   \n64973  [-48.5772426436301,-27.5900781786783]                 -   \n64974  [-48.4566611974118,-27.4525590451538]                 -   \n\n           TipoOcorrênciaAbertura            FeriadoDescrição  ...  \\\n0      ATENDIMENTO PRÉ-HOSPITALAR  Confraternização Universal  ...   \n1      ATENDIMENTO PRÉ-HOSPITALAR  Confraternização Universal  ...   \n2      ATENDIMENTO PRÉ-HOSPITALAR  Confraternização Universal  ...   \n3      ATENDIMENTO PRÉ-HOSPITALAR  Confraternização Universal  ...   \n4            ACIDENTE DE TRÂNSITO  Confraternização Universal  ...   \n...                           ...                         ...  ...   \n64970  ATENDIMENTO PRÉ-HOSPITALAR                           -  ...   \n64971  ATENDIMENTO PRÉ-HOSPITALAR                           -  ...   \n64972  ATENDIMENTO PRÉ-HOSPITALAR                           -  ...   \n64973  ATENDIMENTO PRÉ-HOSPITALAR                           -  ...   \n64974  ATENDIMENTO PRÉ-HOSPITALAR                           -  ...   \n\n                        HorárioJ9  TipoOcorrênciaEncerramento  \\\n0      2018-01-01 01:11:52.524000  ATENDIMENTO PRÉ-HOSPITALAR   \n1      2018-01-01 01:57:30.883000  ATENDIMENTO PRÉ-HOSPITALAR   \n2                               -     OCORRÊNCIA NÃO ATENDIDA   \n3      2018-01-01 02:38:35.197000  ATENDIMENTO PRÉ-HOSPITALAR   \n4      2018-01-01 05:01:24.057000  ATENDIMENTO PRÉ-HOSPITALAR   \n...                           ...                         ...   \n64970  2023-07-30 20:28:07.303000  ATENDIMENTO PRÉ-HOSPITALAR   \n64971  2023-07-30 20:49:17.706000  ATENDIMENTO PRÉ-HOSPITALAR   \n64972  2023-07-30 21:54:45.035000     OCORRÊNCIA NÃO ATENDIDA   \n64973  2023-07-30 22:20:51.180000  ATENDIMENTO PRÉ-HOSPITALAR   \n64974  2023-07-31 04:02:05.942000  ATENDIMENTO PRÉ-HOSPITALAR   \n\n      TempoTotalOcorrência TipoOcorrênciaEncerramento.1 ClassificaçãoChamada  \\\n0                        -   ATENDIMENTO PRÉ-HOSPITALAR                    -   \n1          01:38:42.929000   ATENDIMENTO PRÉ-HOSPITALAR                    -   \n2          00:03:18.237000      OCORRÊNCIA NÃO ATENDIDA                    -   \n3          01:25:10.964000   ATENDIMENTO PRÉ-HOSPITALAR                    -   \n4          00:50:05.678000   ATENDIMENTO PRÉ-HOSPITALAR                    -   \n...                    ...                          ...                  ...   \n64970                    -   ATENDIMENTO PRÉ-HOSPITALAR                    -   \n64971      01:09:43.896000   ATENDIMENTO PRÉ-HOSPITALAR                    -   \n64972      00:28:57.666000      OCORRÊNCIA NÃO ATENDIDA                    -   \n64973                    -   ATENDIMENTO PRÉ-HOSPITALAR                    -   \n64974      00:45:50.942000   ATENDIMENTO PRÉ-HOSPITALAR                    -   \n\n      CidadeOBMOperacional                                     OBM  \\\n0            Florianópolis                                       -   \n1            Florianópolis                                       -   \n2            Florianópolis                                       -   \n3            Florianópolis                                       -   \n4            Florianópolis                                       -   \n...                    ...                                     ...   \n64970        Florianópolis    1º BBM - 2º/2ª/1º BBM - CANASVIEIRAS   \n64971        Florianópolis        1º BBM - 1º/1ª/1º BBM - ESTREITO   \n64972        Florianópolis  1º BBM - 1º/1º/2ª/1º BBM - RIO TAVARES   \n64973        Florianópolis        1º BBM - 1º/1ª/1º BBM - ESTREITO   \n64974        Florianópolis    1º BBM - 2º/2ª/1º BBM - CANASVIEIRAS   \n\n                         Bairro lat_ocorrencia lon_ocorrencia  \n0                     COQUEIROS     -48.583567     -27.603720  \n1          JURERÊ INTERNACIONAL     -48.499719     -27.438892  \n2                      ESTREITO     -48.499704     -27.438914  \n3                BARRA DA LAGOA     -48.430948     -27.573438  \n4          JURERÊ INTERNACIONAL     -48.502000     -27.446556  \n...                         ...            ...            ...  \n64970                  INGLESES     -48.400281     -27.456841  \n64971                 CAPOEIRAS     -48.600708     -27.595756  \n64972                  CAMPECHE     -48.504686     -27.678832  \n64973                    CENTRO     -48.552170     -27.598435  \n64974  INGLESES DO RIO VERMELHO     -48.405436     -27.452575  \n\n[64975 rows x 26 columns]",
      "text/html": "<div>\n<style scoped>\n    .dataframe tbody tr th:only-of-type {\n        vertical-align: middle;\n    }\n\n    .dataframe tbody tr th {\n        vertical-align: top;\n    }\n\n    .dataframe thead th {\n        text-align: right;\n    }\n</style>\n<table border=\"1\" class=\"dataframe\">\n  <thead>\n    <tr style=\"text-align: right;\">\n      <th></th>\n      <th>NrOcorrência</th>\n      <th>Cidade</th>\n      <th>População</th>\n      <th>Data</th>\n      <th>Cidade.1</th>\n      <th>CoordenadaOcorrência</th>\n      <th>CoordenadaOBM</th>\n      <th>SubtipoOcorrência</th>\n      <th>TipoOcorrênciaAbertura</th>\n      <th>FeriadoDescrição</th>\n      <th>...</th>\n      <th>HorárioJ9</th>\n      <th>TipoOcorrênciaEncerramento</th>\n      <th>TempoTotalOcorrência</th>\n      <th>TipoOcorrênciaEncerramento.1</th>\n      <th>ClassificaçãoChamada</th>\n      <th>CidadeOBMOperacional</th>\n      <th>OBM</th>\n      <th>Bairro</th>\n      <th>lat_ocorrencia</th>\n      <th>lon_ocorrencia</th>\n    </tr>\n  </thead>\n  <tbody>\n    <tr>\n      <th>0</th>\n      <td>10085306.0</td>\n      <td>Florianópolis</td>\n      <td>516524</td>\n      <td>2018-01-01 00:00:00</td>\n      <td>Florianópolis</td>\n      <td>[-48.5835667,-27.6037201]</td>\n      <td>-</td>\n      <td>COLISÃO/CHOQUE</td>\n      <td>ATENDIMENTO PRÉ-HOSPITALAR</td>\n      <td>Confraternização Universal</td>\n      <td>...</td>\n      <td>2018-01-01 01:11:52.524000</td>\n      <td>ATENDIMENTO PRÉ-HOSPITALAR</td>\n      <td>-</td>\n      <td>ATENDIMENTO PRÉ-HOSPITALAR</td>\n      <td>-</td>\n      <td>Florianópolis</td>\n      <td>-</td>\n      <td>COQUEIROS</td>\n      <td>-48.583567</td>\n      <td>-27.603720</td>\n    </tr>\n    <tr>\n      <th>1</th>\n      <td>10085307.0</td>\n      <td>Florianópolis</td>\n      <td>516524</td>\n      <td>2018-01-01 00:00:00</td>\n      <td>Florianópolis</td>\n      <td>[-48.4997193,-27.4388923]</td>\n      <td>-</td>\n      <td>QUEDA</td>\n      <td>ATENDIMENTO PRÉ-HOSPITALAR</td>\n      <td>Confraternização Universal</td>\n      <td>...</td>\n      <td>2018-01-01 01:57:30.883000</td>\n      <td>ATENDIMENTO PRÉ-HOSPITALAR</td>\n      <td>01:38:42.929000</td>\n      <td>ATENDIMENTO PRÉ-HOSPITALAR</td>\n      <td>-</td>\n      <td>Florianópolis</td>\n      <td>-</td>\n      <td>JURERÊ INTERNACIONAL</td>\n      <td>-48.499719</td>\n      <td>-27.438892</td>\n    </tr>\n    <tr>\n      <th>2</th>\n      <td>10085308.0</td>\n      <td>Florianópolis</td>\n      <td>516524</td>\n      <td>2018-01-01 00:00:00</td>\n      <td>Florianópolis</td>\n      <td>[-48.4997041,-27.4389142]</td>\n      <td>-</td>\n      <td>-</td>\n      <td>ATENDIMENTO PRÉ-HOSPITALAR</td>\n      <td>Confraternização Universal</td>\n      <td>...</td>\n      <td>-</td>\n      <td>OCORRÊNCIA NÃO ATENDIDA</td>\n      <td>00:03:18.237000</td>\n      <td>OCORRÊNCIA NÃO ATENDIDA</td>\n      <td>-</td>\n      <td>Florianópolis</td>\n      <td>-</td>\n      <td>ESTREITO</td>\n      <td>-48.499704</td>\n      <td>-27.438914</td>\n    </tr>\n    <tr>\n      <th>3</th>\n      <td>10085311.0</td>\n      <td>Florianópolis</td>\n      <td>516524</td>\n      <td>2018-01-01 00:00:00</td>\n      <td>Florianópolis</td>\n      <td>[-48.4309475,-27.5734384]</td>\n      <td>-</td>\n      <td>-</td>\n      <td>ATENDIMENTO PRÉ-HOSPITALAR</td>\n      <td>Confraternização Universal</td>\n      <td>...</td>\n      <td>2018-01-01 02:38:35.197000</td>\n      <td>ATENDIMENTO PRÉ-HOSPITALAR</td>\n      <td>01:25:10.964000</td>\n      <td>ATENDIMENTO PRÉ-HOSPITALAR</td>\n      <td>-</td>\n      <td>Florianópolis</td>\n      <td>-</td>\n      <td>BARRA DA LAGOA</td>\n      <td>-48.430948</td>\n      <td>-27.573438</td>\n    </tr>\n    <tr>\n      <th>4</th>\n      <td>10085313.0</td>\n      <td>Florianópolis</td>\n      <td>516524</td>\n      <td>2018-01-01 00:00:00</td>\n      <td>Florianópolis</td>\n      <td>[-48.5020001,-27.4465559]</td>\n      <td>-</td>\n      <td>COLISÃO/CHOQUE</td>\n      <td>ACIDENTE DE TRÂNSITO</td>\n      <td>Confraternização Universal</td>\n      <td>...</td>\n      <td>2018-01-01 05:01:24.057000</td>\n      <td>ATENDIMENTO PRÉ-HOSPITALAR</td>\n      <td>00:50:05.678000</td>\n      <td>ATENDIMENTO PRÉ-HOSPITALAR</td>\n      <td>-</td>\n      <td>Florianópolis</td>\n      <td>-</td>\n      <td>JURERÊ INTERNACIONAL</td>\n      <td>-48.502000</td>\n      <td>-27.446556</td>\n    </tr>\n    <tr>\n      <th>...</th>\n      <td>...</td>\n      <td>...</td>\n      <td>...</td>\n      <td>...</td>\n      <td>...</td>\n      <td>...</td>\n      <td>...</td>\n      <td>...</td>\n      <td>...</td>\n      <td>...</td>\n      <td>...</td>\n      <td>...</td>\n      <td>...</td>\n      <td>...</td>\n      <td>...</td>\n      <td>...</td>\n      <td>...</td>\n      <td>...</td>\n      <td>...</td>\n      <td>...</td>\n      <td>...</td>\n    </tr>\n    <tr>\n      <th>64970</th>\n      <td>130319412.0</td>\n      <td>Florianópolis</td>\n      <td>516524</td>\n      <td>2023-07-30 00:00:00</td>\n      <td>Florianópolis</td>\n      <td>[-48.4002807,-27.456841]</td>\n      <td>[-48.4566611974118,-27.4525590451538]</td>\n      <td>-</td>\n      <td>ATENDIMENTO PRÉ-HOSPITALAR</td>\n      <td>-</td>\n      <td>...</td>\n      <td>2023-07-30 20:28:07.303000</td>\n      <td>ATENDIMENTO PRÉ-HOSPITALAR</td>\n      <td>-</td>\n      <td>ATENDIMENTO PRÉ-HOSPITALAR</td>\n      <td>-</td>\n      <td>Florianópolis</td>\n      <td>1º BBM - 2º/2ª/1º BBM - CANASVIEIRAS</td>\n      <td>INGLESES</td>\n      <td>-48.400281</td>\n      <td>-27.456841</td>\n    </tr>\n    <tr>\n      <th>64971</th>\n      <td>130319424.0</td>\n      <td>Florianópolis</td>\n      <td>516524</td>\n      <td>2023-07-30 00:00:00</td>\n      <td>Florianópolis</td>\n      <td>[-48.6007076,-27.5957561]</td>\n      <td>[-48.5772426436301,-27.5900781786783]</td>\n      <td>-</td>\n      <td>ATENDIMENTO PRÉ-HOSPITALAR</td>\n      <td>-</td>\n      <td>...</td>\n      <td>2023-07-30 20:49:17.706000</td>\n      <td>ATENDIMENTO PRÉ-HOSPITALAR</td>\n      <td>01:09:43.896000</td>\n      <td>ATENDIMENTO PRÉ-HOSPITALAR</td>\n      <td>-</td>\n      <td>Florianópolis</td>\n      <td>1º BBM - 1º/1ª/1º BBM - ESTREITO</td>\n      <td>CAPOEIRAS</td>\n      <td>-48.600708</td>\n      <td>-27.595756</td>\n    </tr>\n    <tr>\n      <th>64972</th>\n      <td>130319461.0</td>\n      <td>Florianópolis</td>\n      <td>516524</td>\n      <td>2023-07-30 00:00:00</td>\n      <td>Florianópolis</td>\n      <td>[-48.5046855,-27.6788322]</td>\n      <td>[-48.5046556273528,-27.6696681529401]</td>\n      <td>-</td>\n      <td>ATENDIMENTO PRÉ-HOSPITALAR</td>\n      <td>-</td>\n      <td>...</td>\n      <td>2023-07-30 21:54:45.035000</td>\n      <td>OCORRÊNCIA NÃO ATENDIDA</td>\n      <td>00:28:57.666000</td>\n      <td>OCORRÊNCIA NÃO ATENDIDA</td>\n      <td>-</td>\n      <td>Florianópolis</td>\n      <td>1º BBM - 1º/1º/2ª/1º BBM - RIO TAVARES</td>\n      <td>CAMPECHE</td>\n      <td>-48.504686</td>\n      <td>-27.678832</td>\n    </tr>\n    <tr>\n      <th>64973</th>\n      <td>130319468.0</td>\n      <td>Florianópolis</td>\n      <td>516524</td>\n      <td>2023-07-30 00:00:00</td>\n      <td>Florianópolis</td>\n      <td>[-48.5521704,-27.598435]</td>\n      <td>[-48.5772426436301,-27.5900781786783]</td>\n      <td>-</td>\n      <td>ATENDIMENTO PRÉ-HOSPITALAR</td>\n      <td>-</td>\n      <td>...</td>\n      <td>2023-07-30 22:20:51.180000</td>\n      <td>ATENDIMENTO PRÉ-HOSPITALAR</td>\n      <td>-</td>\n      <td>ATENDIMENTO PRÉ-HOSPITALAR</td>\n      <td>-</td>\n      <td>Florianópolis</td>\n      <td>1º BBM - 1º/1ª/1º BBM - ESTREITO</td>\n      <td>CENTRO</td>\n      <td>-48.552170</td>\n      <td>-27.598435</td>\n    </tr>\n    <tr>\n      <th>64974</th>\n      <td>130319514.0</td>\n      <td>Florianópolis</td>\n      <td>516524</td>\n      <td>2023-07-31 00:00:00</td>\n      <td>Florianópolis</td>\n      <td>[-48.405436,-27.4525746]</td>\n      <td>[-48.4566611974118,-27.4525590451538]</td>\n      <td>-</td>\n      <td>ATENDIMENTO PRÉ-HOSPITALAR</td>\n      <td>-</td>\n      <td>...</td>\n      <td>2023-07-31 04:02:05.942000</td>\n      <td>ATENDIMENTO PRÉ-HOSPITALAR</td>\n      <td>00:45:50.942000</td>\n      <td>ATENDIMENTO PRÉ-HOSPITALAR</td>\n      <td>-</td>\n      <td>Florianópolis</td>\n      <td>1º BBM - 2º/2ª/1º BBM - CANASVIEIRAS</td>\n      <td>INGLESES DO RIO VERMELHO</td>\n      <td>-48.405436</td>\n      <td>-27.452575</td>\n    </tr>\n  </tbody>\n</table>\n<p>64975 rows × 26 columns</p>\n</div>"
     },
     "execution_count": 41,
     "metadata": {},
     "output_type": "execute_result"
    }
   ],
   "source": [
    "imputed_df"
   ],
   "metadata": {
    "collapsed": false,
    "ExecuteTime": {
     "end_time": "2023-08-03T13:54:44.687595597Z",
     "start_time": "2023-08-03T13:54:44.636499495Z"
    }
   },
   "id": "25bb44bce7978d6b"
  },
  {
   "cell_type": "code",
   "execution_count": 42,
   "outputs": [
    {
     "name": "stdout",
     "output_type": "stream",
     "text": [
      "Number of NaN values in 'lon_ocorrencia': 11\n",
      "Number of NaN values in 'lat_ocorrencia': 11\n"
     ]
    }
   ],
   "source": [
    "num_nan_lon = imputed_df['lon_ocorrencia'].isnull().sum()\n",
    "num_nan_lat = imputed_df['lat_ocorrencia'].isnull().sum()\n",
    "\n",
    "# Print the counts\n",
    "print(\"Number of NaN values in 'lon_ocorrencia':\", num_nan_lon)\n",
    "print(\"Number of NaN values in 'lat_ocorrencia':\", num_nan_lat)"
   ],
   "metadata": {
    "collapsed": false,
    "ExecuteTime": {
     "end_time": "2023-08-03T13:55:00.116580627Z",
     "start_time": "2023-08-03T13:55:00.100972859Z"
    }
   },
   "id": "c3eba92e20d60b56"
  },
  {
   "cell_type": "code",
   "execution_count": 44,
   "outputs": [
    {
     "name": "stdout",
     "output_type": "stream",
     "text": [
      "Number of occurrences of -48.5775211 in lat_ocorrencia: 157\n"
     ]
    }
   ],
   "source": [
    "num_occurrences = df['lat_ocorrencia'].value_counts().get(-48.5775211, 0)\n",
    "\n",
    "print(f\"Number of occurrences of -48.5775211 in lat_ocorrencia: {num_occurrences}\")"
   ],
   "metadata": {
    "collapsed": false,
    "ExecuteTime": {
     "end_time": "2023-08-03T14:03:55.183268998Z",
     "start_time": "2023-08-03T14:03:55.138680240Z"
    }
   },
   "id": "51f0b0ee8abe3dcb"
  },
  {
   "cell_type": "code",
   "execution_count": 43,
   "outputs": [],
   "source": [
    "imputed_df.to_csv(\"Data/datasets/datasetTratadoFloripa5.csv\", index=False)"
   ],
   "metadata": {
    "collapsed": false,
    "ExecuteTime": {
     "end_time": "2023-08-03T13:55:16.962509198Z",
     "start_time": "2023-08-03T13:55:16.107822555Z"
    }
   },
   "id": "2844a311622c1f11"
  },
  {
   "cell_type": "code",
   "execution_count": null,
   "outputs": [],
   "source": [],
   "metadata": {
    "collapsed": false
   },
   "id": "4ecae26bc00583c7"
  }
 ],
 "metadata": {
  "kernelspec": {
   "display_name": "Python 3",
   "language": "python",
   "name": "python3"
  },
  "language_info": {
   "codemirror_mode": {
    "name": "ipython",
    "version": 2
   },
   "file_extension": ".py",
   "mimetype": "text/x-python",
   "name": "python",
   "nbconvert_exporter": "python",
   "pygments_lexer": "ipython2",
   "version": "2.7.6"
  }
 },
 "nbformat": 4,
 "nbformat_minor": 5
}
